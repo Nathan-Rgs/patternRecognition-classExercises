{
  "cells": [
    {
      "cell_type": "markdown",
      "metadata": {
        "id": "S50j1d8tP0Fs"
      },
      "source": [
        "O objetivo deste notebook é implementar uma árvore de decisão do zero (numpy e pandas), que possuirá a seguinte API:\n",
        "\n",
        "```Python\n",
        "df = pd.read_csv(\"data.csv\")\n",
        "\n",
        "train_df, test_df = train_test_split(df, test_size=0.2)\n",
        "tree = decision_tree_algorithm(train_df)\n",
        "accuracy = calculate_accuracy(test_df, tree)\n",
        "```\n",
        "\n",
        "Se der tempo, colocar diagrama do algoritmo"
      ]
    },
    {
      "cell_type": "markdown",
      "metadata": {
        "id": "lEKJZoqQP0Fu"
      },
      "source": [
        "# Importar bibliotecas"
      ]
    },
    {
      "cell_type": "code",
      "execution_count": 4,
      "metadata": {
        "id": "ztZIf4mmP0Fu"
      },
      "outputs": [],
      "source": [
        "import numpy as np\n",
        "import pandas as pd\n",
        "\n",
        "import matplotlib.pyplot as plt\n",
        "import seaborn as sns\n",
        "\n",
        "import random\n",
        "from pprint import pprint"
      ]
    },
    {
      "cell_type": "code",
      "execution_count": 5,
      "metadata": {
        "id": "2eHsfkE1P0Fv"
      },
      "outputs": [],
      "source": [
        "%matplotlib inline\n",
        "sns.set_style(\"darkgrid\")"
      ]
    },
    {
      "cell_type": "markdown",
      "metadata": {
        "id": "cH4P-6bCP0Fv"
      },
      "source": [
        "# Carregar e preparar os dados"
      ]
    },
    {
      "cell_type": "markdown",
      "metadata": {
        "id": "4_DqADKSP0Fv"
      },
      "source": [
        "#### Formato dos dados\n",
        "- Nesse caso, a última coluna do dataset é o atributo alvo"
      ]
    },
    {
      "cell_type": "code",
      "execution_count": 6,
      "metadata": {
        "colab": {
          "base_uri": "https://localhost:8080/"
        },
        "id": "Tr_CN5QrP0Fv",
        "outputId": "62dcb590-d2e8-4904-dbd2-a2c49ff3c6f3"
      },
      "outputs": [
        {
          "output_type": "execute_result",
          "data": {
            "text/plain": [
              "(150, 5)"
            ]
          },
          "metadata": {},
          "execution_count": 6
        }
      ],
      "source": [
        "df = pd.read_csv(\"iris.csv\")\n",
        "#df = df.drop(\"Id\", axis=1)\n",
        "df = df.rename(columns={\"classe\": \"label\"})\n",
        "df.shape"
      ]
    },
    {
      "cell_type": "code",
      "execution_count": 7,
      "metadata": {
        "colab": {
          "base_uri": "https://localhost:8080/",
          "height": 206
        },
        "id": "kC16vE6BP0Fw",
        "outputId": "5e19c863-3f2f-4134-cb2d-28c94ff1ed31"
      },
      "outputs": [
        {
          "output_type": "execute_result",
          "data": {
            "text/plain": [
              "   comprimento_sepala  largura_sepala  comprimento_petala  largura_petala  \\\n",
              "0                 5.1             3.5                 1.4             0.2   \n",
              "1                 4.9             3.0                 1.4             0.2   \n",
              "2                 4.7             3.2                 1.3             0.2   \n",
              "3                 4.6             3.1                 1.5             0.2   \n",
              "4                 5.0             3.6                 1.4             0.2   \n",
              "\n",
              "         label  \n",
              "0  Iris-setosa  \n",
              "1  Iris-setosa  \n",
              "2  Iris-setosa  \n",
              "3  Iris-setosa  \n",
              "4  Iris-setosa  "
            ],
            "text/html": [
              "\n",
              "  <div id=\"df-3b2e928a-8baa-4a72-ab9f-4e53c348c996\" class=\"colab-df-container\">\n",
              "    <div>\n",
              "<style scoped>\n",
              "    .dataframe tbody tr th:only-of-type {\n",
              "        vertical-align: middle;\n",
              "    }\n",
              "\n",
              "    .dataframe tbody tr th {\n",
              "        vertical-align: top;\n",
              "    }\n",
              "\n",
              "    .dataframe thead th {\n",
              "        text-align: right;\n",
              "    }\n",
              "</style>\n",
              "<table border=\"1\" class=\"dataframe\">\n",
              "  <thead>\n",
              "    <tr style=\"text-align: right;\">\n",
              "      <th></th>\n",
              "      <th>comprimento_sepala</th>\n",
              "      <th>largura_sepala</th>\n",
              "      <th>comprimento_petala</th>\n",
              "      <th>largura_petala</th>\n",
              "      <th>label</th>\n",
              "    </tr>\n",
              "  </thead>\n",
              "  <tbody>\n",
              "    <tr>\n",
              "      <th>0</th>\n",
              "      <td>5.1</td>\n",
              "      <td>3.5</td>\n",
              "      <td>1.4</td>\n",
              "      <td>0.2</td>\n",
              "      <td>Iris-setosa</td>\n",
              "    </tr>\n",
              "    <tr>\n",
              "      <th>1</th>\n",
              "      <td>4.9</td>\n",
              "      <td>3.0</td>\n",
              "      <td>1.4</td>\n",
              "      <td>0.2</td>\n",
              "      <td>Iris-setosa</td>\n",
              "    </tr>\n",
              "    <tr>\n",
              "      <th>2</th>\n",
              "      <td>4.7</td>\n",
              "      <td>3.2</td>\n",
              "      <td>1.3</td>\n",
              "      <td>0.2</td>\n",
              "      <td>Iris-setosa</td>\n",
              "    </tr>\n",
              "    <tr>\n",
              "      <th>3</th>\n",
              "      <td>4.6</td>\n",
              "      <td>3.1</td>\n",
              "      <td>1.5</td>\n",
              "      <td>0.2</td>\n",
              "      <td>Iris-setosa</td>\n",
              "    </tr>\n",
              "    <tr>\n",
              "      <th>4</th>\n",
              "      <td>5.0</td>\n",
              "      <td>3.6</td>\n",
              "      <td>1.4</td>\n",
              "      <td>0.2</td>\n",
              "      <td>Iris-setosa</td>\n",
              "    </tr>\n",
              "  </tbody>\n",
              "</table>\n",
              "</div>\n",
              "    <div class=\"colab-df-buttons\">\n",
              "\n",
              "  <div class=\"colab-df-container\">\n",
              "    <button class=\"colab-df-convert\" onclick=\"convertToInteractive('df-3b2e928a-8baa-4a72-ab9f-4e53c348c996')\"\n",
              "            title=\"Convert this dataframe to an interactive table.\"\n",
              "            style=\"display:none;\">\n",
              "\n",
              "  <svg xmlns=\"http://www.w3.org/2000/svg\" height=\"24px\" viewBox=\"0 -960 960 960\">\n",
              "    <path d=\"M120-120v-720h720v720H120Zm60-500h600v-160H180v160Zm220 220h160v-160H400v160Zm0 220h160v-160H400v160ZM180-400h160v-160H180v160Zm440 0h160v-160H620v160ZM180-180h160v-160H180v160Zm440 0h160v-160H620v160Z\"/>\n",
              "  </svg>\n",
              "    </button>\n",
              "\n",
              "  <style>\n",
              "    .colab-df-container {\n",
              "      display:flex;\n",
              "      gap: 12px;\n",
              "    }\n",
              "\n",
              "    .colab-df-convert {\n",
              "      background-color: #E8F0FE;\n",
              "      border: none;\n",
              "      border-radius: 50%;\n",
              "      cursor: pointer;\n",
              "      display: none;\n",
              "      fill: #1967D2;\n",
              "      height: 32px;\n",
              "      padding: 0 0 0 0;\n",
              "      width: 32px;\n",
              "    }\n",
              "\n",
              "    .colab-df-convert:hover {\n",
              "      background-color: #E2EBFA;\n",
              "      box-shadow: 0px 1px 2px rgba(60, 64, 67, 0.3), 0px 1px 3px 1px rgba(60, 64, 67, 0.15);\n",
              "      fill: #174EA6;\n",
              "    }\n",
              "\n",
              "    .colab-df-buttons div {\n",
              "      margin-bottom: 4px;\n",
              "    }\n",
              "\n",
              "    [theme=dark] .colab-df-convert {\n",
              "      background-color: #3B4455;\n",
              "      fill: #D2E3FC;\n",
              "    }\n",
              "\n",
              "    [theme=dark] .colab-df-convert:hover {\n",
              "      background-color: #434B5C;\n",
              "      box-shadow: 0px 1px 3px 1px rgba(0, 0, 0, 0.15);\n",
              "      filter: drop-shadow(0px 1px 2px rgba(0, 0, 0, 0.3));\n",
              "      fill: #FFFFFF;\n",
              "    }\n",
              "  </style>\n",
              "\n",
              "    <script>\n",
              "      const buttonEl =\n",
              "        document.querySelector('#df-3b2e928a-8baa-4a72-ab9f-4e53c348c996 button.colab-df-convert');\n",
              "      buttonEl.style.display =\n",
              "        google.colab.kernel.accessAllowed ? 'block' : 'none';\n",
              "\n",
              "      async function convertToInteractive(key) {\n",
              "        const element = document.querySelector('#df-3b2e928a-8baa-4a72-ab9f-4e53c348c996');\n",
              "        const dataTable =\n",
              "          await google.colab.kernel.invokeFunction('convertToInteractive',\n",
              "                                                    [key], {});\n",
              "        if (!dataTable) return;\n",
              "\n",
              "        const docLinkHtml = 'Like what you see? Visit the ' +\n",
              "          '<a target=\"_blank\" href=https://colab.research.google.com/notebooks/data_table.ipynb>data table notebook</a>'\n",
              "          + ' to learn more about interactive tables.';\n",
              "        element.innerHTML = '';\n",
              "        dataTable['output_type'] = 'display_data';\n",
              "        await google.colab.output.renderOutput(dataTable, element);\n",
              "        const docLink = document.createElement('div');\n",
              "        docLink.innerHTML = docLinkHtml;\n",
              "        element.appendChild(docLink);\n",
              "      }\n",
              "    </script>\n",
              "  </div>\n",
              "\n",
              "\n",
              "<div id=\"df-037bfeb2-50e3-4de0-90c8-1139a13bdce5\">\n",
              "  <button class=\"colab-df-quickchart\" onclick=\"quickchart('df-037bfeb2-50e3-4de0-90c8-1139a13bdce5')\"\n",
              "            title=\"Suggest charts.\"\n",
              "            style=\"display:none;\">\n",
              "\n",
              "<svg xmlns=\"http://www.w3.org/2000/svg\" height=\"24px\"viewBox=\"0 0 24 24\"\n",
              "     width=\"24px\">\n",
              "    <g>\n",
              "        <path d=\"M19 3H5c-1.1 0-2 .9-2 2v14c0 1.1.9 2 2 2h14c1.1 0 2-.9 2-2V5c0-1.1-.9-2-2-2zM9 17H7v-7h2v7zm4 0h-2V7h2v10zm4 0h-2v-4h2v4z\"/>\n",
              "    </g>\n",
              "</svg>\n",
              "  </button>\n",
              "\n",
              "<style>\n",
              "  .colab-df-quickchart {\n",
              "      --bg-color: #E8F0FE;\n",
              "      --fill-color: #1967D2;\n",
              "      --hover-bg-color: #E2EBFA;\n",
              "      --hover-fill-color: #174EA6;\n",
              "      --disabled-fill-color: #AAA;\n",
              "      --disabled-bg-color: #DDD;\n",
              "  }\n",
              "\n",
              "  [theme=dark] .colab-df-quickchart {\n",
              "      --bg-color: #3B4455;\n",
              "      --fill-color: #D2E3FC;\n",
              "      --hover-bg-color: #434B5C;\n",
              "      --hover-fill-color: #FFFFFF;\n",
              "      --disabled-bg-color: #3B4455;\n",
              "      --disabled-fill-color: #666;\n",
              "  }\n",
              "\n",
              "  .colab-df-quickchart {\n",
              "    background-color: var(--bg-color);\n",
              "    border: none;\n",
              "    border-radius: 50%;\n",
              "    cursor: pointer;\n",
              "    display: none;\n",
              "    fill: var(--fill-color);\n",
              "    height: 32px;\n",
              "    padding: 0;\n",
              "    width: 32px;\n",
              "  }\n",
              "\n",
              "  .colab-df-quickchart:hover {\n",
              "    background-color: var(--hover-bg-color);\n",
              "    box-shadow: 0 1px 2px rgba(60, 64, 67, 0.3), 0 1px 3px 1px rgba(60, 64, 67, 0.15);\n",
              "    fill: var(--button-hover-fill-color);\n",
              "  }\n",
              "\n",
              "  .colab-df-quickchart-complete:disabled,\n",
              "  .colab-df-quickchart-complete:disabled:hover {\n",
              "    background-color: var(--disabled-bg-color);\n",
              "    fill: var(--disabled-fill-color);\n",
              "    box-shadow: none;\n",
              "  }\n",
              "\n",
              "  .colab-df-spinner {\n",
              "    border: 2px solid var(--fill-color);\n",
              "    border-color: transparent;\n",
              "    border-bottom-color: var(--fill-color);\n",
              "    animation:\n",
              "      spin 1s steps(1) infinite;\n",
              "  }\n",
              "\n",
              "  @keyframes spin {\n",
              "    0% {\n",
              "      border-color: transparent;\n",
              "      border-bottom-color: var(--fill-color);\n",
              "      border-left-color: var(--fill-color);\n",
              "    }\n",
              "    20% {\n",
              "      border-color: transparent;\n",
              "      border-left-color: var(--fill-color);\n",
              "      border-top-color: var(--fill-color);\n",
              "    }\n",
              "    30% {\n",
              "      border-color: transparent;\n",
              "      border-left-color: var(--fill-color);\n",
              "      border-top-color: var(--fill-color);\n",
              "      border-right-color: var(--fill-color);\n",
              "    }\n",
              "    40% {\n",
              "      border-color: transparent;\n",
              "      border-right-color: var(--fill-color);\n",
              "      border-top-color: var(--fill-color);\n",
              "    }\n",
              "    60% {\n",
              "      border-color: transparent;\n",
              "      border-right-color: var(--fill-color);\n",
              "    }\n",
              "    80% {\n",
              "      border-color: transparent;\n",
              "      border-right-color: var(--fill-color);\n",
              "      border-bottom-color: var(--fill-color);\n",
              "    }\n",
              "    90% {\n",
              "      border-color: transparent;\n",
              "      border-bottom-color: var(--fill-color);\n",
              "    }\n",
              "  }\n",
              "</style>\n",
              "\n",
              "  <script>\n",
              "    async function quickchart(key) {\n",
              "      const quickchartButtonEl =\n",
              "        document.querySelector('#' + key + ' button');\n",
              "      quickchartButtonEl.disabled = true;  // To prevent multiple clicks.\n",
              "      quickchartButtonEl.classList.add('colab-df-spinner');\n",
              "      try {\n",
              "        const charts = await google.colab.kernel.invokeFunction(\n",
              "            'suggestCharts', [key], {});\n",
              "      } catch (error) {\n",
              "        console.error('Error during call to suggestCharts:', error);\n",
              "      }\n",
              "      quickchartButtonEl.classList.remove('colab-df-spinner');\n",
              "      quickchartButtonEl.classList.add('colab-df-quickchart-complete');\n",
              "    }\n",
              "    (() => {\n",
              "      let quickchartButtonEl =\n",
              "        document.querySelector('#df-037bfeb2-50e3-4de0-90c8-1139a13bdce5 button');\n",
              "      quickchartButtonEl.style.display =\n",
              "        google.colab.kernel.accessAllowed ? 'block' : 'none';\n",
              "    })();\n",
              "  </script>\n",
              "</div>\n",
              "    </div>\n",
              "  </div>\n"
            ]
          },
          "metadata": {},
          "execution_count": 7
        }
      ],
      "source": [
        "df.head()"
      ]
    },
    {
      "cell_type": "code",
      "execution_count": 8,
      "metadata": {
        "colab": {
          "base_uri": "https://localhost:8080/",
          "height": 447
        },
        "id": "R1m6buDhP0Fw",
        "outputId": "b0b295bd-b3c2-4803-cb95-9dc242aed729"
      },
      "outputs": [
        {
          "output_type": "execute_result",
          "data": {
            "text/plain": [
              "<Axes: >"
            ]
          },
          "metadata": {},
          "execution_count": 8
        },
        {
          "output_type": "display_data",
          "data": {
            "text/plain": [
              "<Figure size 640x480 with 1 Axes>"
            ],
            "image/png": "[encoded data removed]"
          },
          "metadata": {}
        }
      ],
      "source": [
        "df['label'].hist()"
      ]
    },
    {
      "cell_type": "markdown",
      "metadata": {
        "id": "BiNMVpXXP0Fx"
      },
      "source": [
        "# Divisão de treino e teste\n",
        "\n",
        "Como as classes estão distruídas igualmente, não precisamos realizar a amostragem estratificada"
      ]
    },
    {
      "cell_type": "code",
      "execution_count": 9,
      "metadata": {
        "id": "P8MgMTYTP0Fx"
      },
      "outputs": [],
      "source": [
        "def train_test_split(df, test_size):\n",
        "\n",
        "    if isinstance(test_size, float):\n",
        "        test_size = round(test_size * len(df))\n",
        "\n",
        "    # extract all indexes from dataset\n",
        "    indices = df.index.tolist()\n",
        "    test_indices = random.sample(population=indices, k=test_size)\n",
        "\n",
        "    test_df = df.loc[test_indices]\n",
        "    train_df = df.drop(test_indices)\n",
        "\n",
        "    return train_df, test_df"
      ]
    },
    {
      "cell_type": "code",
      "execution_count": 10,
      "metadata": {
        "id": "UKtemcnRP0Fx"
      },
      "outputs": [],
      "source": [
        "random.seed(0)\n",
        "train_df, test_df = train_test_split(df, test_size=20)"
      ]
    },
    {
      "cell_type": "markdown",
      "metadata": {
        "id": "tPWicZRSP0Fy"
      },
      "source": [
        "# Funções auxiliares\n",
        "\n",
        "As funções auxiliares irão trabalhar com NumPy arrays. Logo, iremos atribuir os valores no formato numpy a uma variável"
      ]
    },
    {
      "cell_type": "code",
      "execution_count": 11,
      "metadata": {
        "colab": {
          "base_uri": "https://localhost:8080/"
        },
        "id": "_FBE_BlXP0Fy",
        "outputId": "aea8cf3f-63ee-4953-89c0-50ad99a7a4f0"
      },
      "outputs": [
        {
          "output_type": "execute_result",
          "data": {
            "text/plain": [
              "array([[5.1, 3.5, 1.4, 0.2, 'Iris-setosa'],\n",
              "       [4.9, 3.0, 1.4, 0.2, 'Iris-setosa'],\n",
              "       [4.7, 3.2, 1.3, 0.2, 'Iris-setosa'],\n",
              "       [4.6, 3.1, 1.5, 0.2, 'Iris-setosa'],\n",
              "       [5.0, 3.6, 1.4, 0.2, 'Iris-setosa']], dtype=object)"
            ]
          },
          "metadata": {},
          "execution_count": 11
        }
      ],
      "source": [
        "data = train_df.values\n",
        "data[:5]"
      ]
    },
    {
      "cell_type": "markdown",
      "metadata": {
        "id": "cyGDj1uYP0Fy"
      },
      "source": [
        "### O conjunto ou subconjunto de dados está puro?"
      ]
    },
    {
      "cell_type": "code",
      "execution_count": 12,
      "metadata": {
        "id": "mYKsWmKCP0Fy"
      },
      "outputs": [],
      "source": [
        "# Check if there is only one class on target column\n",
        "def check_purity(data):\n",
        "\n",
        "    label_column = data[:, -1]\n",
        "    unique_classes = np.unique(label_column)\n",
        "\n",
        "    if len(unique_classes) == 1:\n",
        "        return True\n",
        "    else:\n",
        "        return False"
      ]
    },
    {
      "cell_type": "markdown",
      "metadata": {
        "id": "Sg4z2gs7P0Fy"
      },
      "source": [
        "### Classificação\n",
        "\n",
        "Definida pela moda em um problema de classificação"
      ]
    },
    {
      "cell_type": "code",
      "execution_count": 13,
      "metadata": {
        "id": "aOTmTg7HP0Fy"
      },
      "outputs": [],
      "source": [
        "def classify_data(data):\n",
        "\n",
        "    label_column = data[:, -1]\n",
        "    unique_classes, counts_unique_classes = np.unique(label_column, return_counts=True)\n",
        "\n",
        "    index = counts_unique_classes.argmax()\n",
        "    classification = unique_classes[index]\n",
        "\n",
        "    return classification"
      ]
    },
    {
      "cell_type": "markdown",
      "metadata": {
        "id": "fTB74FvJP0Fz"
      },
      "source": [
        "### Potenciais divisões\n",
        "\n",
        "Utilizada para extrair os possíveis valores para os ramos das árvores"
      ]
    },
    {
      "cell_type": "code",
      "execution_count": 14,
      "metadata": {
        "id": "Vea33n-fP0Fz"
      },
      "outputs": [],
      "source": [
        "def get_potential_splits(data):\n",
        "\n",
        "    potential_splits = {}\n",
        "    _, n_columns = data.shape\n",
        "    for column_index in range(n_columns - 1):          # excluding the last column which is the label\n",
        "        values = data[:, column_index]\n",
        "        unique_values = np.unique(values)\n",
        "\n",
        "        potential_splits[column_index] = unique_values\n",
        "\n",
        "\n",
        "    return potential_splits"
      ]
    },
    {
      "cell_type": "markdown",
      "metadata": {
        "id": "lfiig0pvP0Fz"
      },
      "source": [
        "### Divisão dos dados\n",
        "\n",
        "Funciona com dados categóricos ou numéricos"
      ]
    },
    {
      "cell_type": "code",
      "execution_count": 15,
      "metadata": {
        "id": "OKZRKsnfP0Fz"
      },
      "outputs": [],
      "source": [
        "def split_data(data, split_column, split_value):\n",
        "\n",
        "    split_column_values = data[:, split_column]\n",
        "\n",
        "    type_of_feature = FEATURE_TYPES[split_column]\n",
        "    if type_of_feature == \"continuous\":\n",
        "        left = data[split_column_values <= split_value]\n",
        "        right = data[split_column_values >  split_value]\n",
        "\n",
        "    # feature is categorical\n",
        "    else:\n",
        "        left = data[split_column_values == split_value]\n",
        "        right = data[split_column_values != split_value]\n",
        "\n",
        "    return left, right"
      ]
    },
    {
      "cell_type": "markdown",
      "metadata": {
        "id": "MwJPTG8IP0Fz"
      },
      "source": [
        "### Information Gain\n",
        "\n",
        "O cálculo de Information Gain permite selecionar a melhor divisão dos dados"
      ]
    },
    {
      "cell_type": "code",
      "execution_count": 16,
      "metadata": {
        "id": "6MLHdmAAP0Fz"
      },
      "outputs": [],
      "source": [
        "def calc_entropy(data):\n",
        "\n",
        "    label_column = data[:, -1]\n",
        "    _, counts = np.unique(label_column, return_counts=True)\n",
        "\n",
        "    probabilities = counts / counts.sum()\n",
        "\n",
        "    entropy = sum(probabilities * -np.log2(probabilities))\n",
        "\n",
        "    return entropy"
      ]
    },
    {
      "cell_type": "code",
      "execution_count": 17,
      "metadata": {
        "id": "Qae9hSMPP0F0"
      },
      "outputs": [],
      "source": [
        "def calc_info_gain_numeric(df, left, right, entropy_before_split, split_values):\n",
        "\n",
        "    total_elements = df.shape[0]\n",
        "    ent_left = calc_entropy(left)\n",
        "\n",
        "    ent_right = calc_entropy(right)\n",
        "\n",
        "    weighted_entropy = ((left.shape[0] / total_elements) * ent_left) + (\n",
        "        (right.shape[0] / total_elements) * ent_right\n",
        "    )\n",
        "\n",
        "    info_gain = entropy_before_split - weighted_entropy\n",
        "\n",
        "    return info_gain"
      ]
    },
    {
      "cell_type": "code",
      "execution_count": 18,
      "metadata": {
        "id": "dLV6DIWlP0F0"
      },
      "outputs": [],
      "source": [
        "def determine_best_split(data, potential_splits):\n",
        "\n",
        "    best_information_gain = -9999\n",
        "    for column_index in potential_splits:\n",
        "        for value in potential_splits[column_index]:\n",
        "            data_left, data_right = split_data(data, split_column=column_index, split_value=value)\n",
        "            information_gain = calc_info_gain_numeric(data, data_left, data_right, calc_entropy(data), value)\n",
        "\n",
        "            if information_gain >= best_information_gain:\n",
        "                best_information_gain = information_gain\n",
        "                best_split_column = column_index\n",
        "                best_split_value = value\n",
        "\n",
        "    return best_split_column, best_split_value"
      ]
    },
    {
      "cell_type": "markdown",
      "metadata": {
        "id": "g8FV7rgRP0F0"
      },
      "source": [
        "# Algoritmo da Árvore de Decisão"
      ]
    },
    {
      "cell_type": "markdown",
      "metadata": {
        "id": "N2cVZWbjP0F0"
      },
      "source": [
        "### Representação da árvore de decisão"
      ]
    },
    {
      "cell_type": "code",
      "execution_count": 19,
      "metadata": {
        "id": "0c79d6sHP0F1"
      },
      "outputs": [],
      "source": [
        "sub_tree = {\"question\": [\"yes_answer\", \"no_answer\"]}"
      ]
    },
    {
      "cell_type": "code",
      "execution_count": 20,
      "metadata": {
        "id": "Dd28R5hXP0F1"
      },
      "outputs": [],
      "source": [
        "example_tree = {\"petal_width <= 0.8\": [\n",
        "                                      \"Iris-setosa\",\n",
        "                                      {\"petal_width <= 1.65\": [\n",
        "                                                               {\"petal_length <= 4.9\": [\n",
        "                                                                                        \"Iris-versicolor\",\n",
        "                                                                                        \"Iris-virginica\"\n",
        "                                                                                        ]\n",
        "                                                                },\n",
        "                                                               \"Iris-virginica\"\n",
        "                                                               ]\n",
        "                                       }\n",
        "                                      ]\n",
        "                }"
      ]
    },
    {
      "cell_type": "markdown",
      "metadata": {
        "id": "5TLr8mUnP0F1"
      },
      "source": [
        "### Determinar o tipo de atributo"
      ]
    },
    {
      "cell_type": "code",
      "execution_count": 21,
      "metadata": {
        "id": "GSwgUumFP0F1"
      },
      "outputs": [],
      "source": [
        "def determine_type_of_feature(df):\n",
        "\n",
        "    feature_types = []\n",
        "    n_unique_values_treshold = 15\n",
        "    for feature in df.columns:\n",
        "        if feature != \"label\":\n",
        "            unique_values = df[feature].unique()\n",
        "            example_value = unique_values[0]\n",
        "\n",
        "            if (isinstance(example_value, str)) or (len(unique_values) <= n_unique_values_treshold):\n",
        "                feature_types.append(\"categorical\")\n",
        "            else:\n",
        "                feature_types.append(\"continuous\")\n",
        "\n",
        "    return feature_types"
      ]
    },
    {
      "cell_type": "markdown",
      "metadata": {
        "id": "enk-IMq-P0F1"
      },
      "source": [
        "### Algoritmo completo"
      ]
    },
    {
      "cell_type": "code",
      "execution_count": 22,
      "metadata": {
        "id": "6cH0yOD6P0F1"
      },
      "outputs": [],
      "source": [
        "def decision_tree_algorithm(df, counter=0, min_samples=2, max_depth=5):\n",
        "\n",
        "    # Data preparations\n",
        "    if counter == 0:\n",
        "        global COLUMN_HEADERS, FEATURE_TYPES\n",
        "        COLUMN_HEADERS = df.columns\n",
        "        FEATURE_TYPES = determine_type_of_feature(df)\n",
        "        data = df.values\n",
        "    else:\n",
        "        data = df\n",
        "\n",
        "\n",
        "    # Stop condition\n",
        "    if (check_purity(data)) or (len(data) < min_samples) or (counter == max_depth):\n",
        "        classification = classify_data(data)\n",
        "\n",
        "        return classification\n",
        "\n",
        "\n",
        "    # recursive part\n",
        "    else:\n",
        "        counter += 1\n",
        "\n",
        "        # helper functions\n",
        "        potential_splits = get_potential_splits(data)\n",
        "        split_column, split_value = determine_best_split(data, potential_splits)\n",
        "        data_left, data_right = split_data(data, split_column, split_value)\n",
        "\n",
        "        # check for empty data\n",
        "        if len(data_left) == 0 or len(data_right) == 0:\n",
        "            classification = classify_data(data)\n",
        "            return classification\n",
        "\n",
        "        # determine question\n",
        "        feature_name = COLUMN_HEADERS[split_column]\n",
        "        type_of_feature = FEATURE_TYPES[split_column]\n",
        "        if type_of_feature == \"continuous\":\n",
        "            question = \"{} <= {}\".format(feature_name, split_value)\n",
        "\n",
        "        # feature is categorical\n",
        "        else:\n",
        "            question = \"{} = {}\".format(feature_name, split_value)\n",
        "\n",
        "        # instantiate sub-tree\n",
        "        sub_tree = {question: []}\n",
        "\n",
        "        # find answers (recursion)\n",
        "        yes_answer = decision_tree_algorithm(data_left, counter, min_samples, max_depth)\n",
        "        no_answer = decision_tree_algorithm(data_right, counter, min_samples, max_depth)\n",
        "\n",
        "        # If the answers are the same, then there is no point in asking the question.\n",
        "        # This could happen when the data is classified even though it is not pure\n",
        "        # yet (min_samples or max_depth base case).\n",
        "        if yes_answer == no_answer:\n",
        "            sub_tree = yes_answer\n",
        "        else:\n",
        "            sub_tree[question].append(yes_answer)\n",
        "            sub_tree[question].append(no_answer)\n",
        "\n",
        "        return sub_tree"
      ]
    },
    {
      "cell_type": "code",
      "execution_count": 23,
      "metadata": {
        "colab": {
          "base_uri": "https://localhost:8080/"
        },
        "id": "Rk5UPus6P0F2",
        "outputId": "f9760198-a311-46a9-bc4d-f8e9db2d88be"
      },
      "outputs": [
        {
          "output_type": "stream",
          "name": "stdout",
          "text": [
            "{'largura_petala <= 0.6': ['Iris-setosa',\n",
            "                           {'largura_petala <= 1.6': [{'comprimento_petala <= 4.9': ['Iris-versicolor',\n",
            "                                                                                     'Iris-virginica']},\n",
            "                                                      'Iris-virginica']}]}\n"
          ]
        }
      ],
      "source": [
        "tree = decision_tree_algorithm(train_df, max_depth=3)\n",
        "pprint(tree)"
      ]
    },
    {
      "cell_type": "markdown",
      "metadata": {
        "id": "RHyAGH6ZP0F2"
      },
      "source": [
        "# Classification"
      ]
    },
    {
      "cell_type": "code",
      "execution_count": 24,
      "metadata": {
        "colab": {
          "base_uri": "https://localhost:8080/"
        },
        "id": "Df0j-V8SP0F2",
        "outputId": "808d0af0-425a-478d-f82c-b2bac2b29659"
      },
      "outputs": [
        {
          "output_type": "execute_result",
          "data": {
            "text/plain": [
              "{'question': ['yes_answer', 'no_answer']}"
            ]
          },
          "metadata": {},
          "execution_count": 24
        }
      ],
      "source": [
        "sub_tree"
      ]
    },
    {
      "cell_type": "code",
      "execution_count": 25,
      "metadata": {
        "colab": {
          "base_uri": "https://localhost:8080/"
        },
        "id": "L50uSAIOP0F2",
        "outputId": "5748df84-e820-4477-a33a-2c066b5d300c"
      },
      "outputs": [
        {
          "output_type": "execute_result",
          "data": {
            "text/plain": [
              "comprimento_sepala                5.1\n",
              "largura_sepala                    2.5\n",
              "comprimento_petala                3.0\n",
              "largura_petala                    1.1\n",
              "label                 Iris-versicolor\n",
              "Name: 98, dtype: object"
            ]
          },
          "metadata": {},
          "execution_count": 25
        }
      ],
      "source": [
        "example = test_df.iloc[0]\n",
        "example"
      ]
    },
    {
      "cell_type": "code",
      "execution_count": 26,
      "metadata": {
        "id": "HCrPDR9dP0F3"
      },
      "outputs": [],
      "source": [
        "def classify_example(example, tree):\n",
        "    question = list(tree.keys())[0]\n",
        "    feature_name, comparison_operator, value = question.split(\" \")\n",
        "\n",
        "    # ask question\n",
        "    if comparison_operator == \"<=\":  # feature is continuous\n",
        "        if example[feature_name] <= float(value):\n",
        "            answer = tree[question][0]\n",
        "        else:\n",
        "            answer = tree[question][1]\n",
        "\n",
        "    # feature is categorical\n",
        "    else:\n",
        "        if str(example[feature_name]) == value:\n",
        "            answer = tree[question][0]\n",
        "        else:\n",
        "            answer = tree[question][1]\n",
        "\n",
        "    # leaft node\n",
        "    if not isinstance(answer, dict):\n",
        "        return answer\n",
        "\n",
        "    # recursive part\n",
        "    else:\n",
        "        residual_tree = answer\n",
        "        return classify_example(example, residual_tree)"
      ]
    },
    {
      "cell_type": "code",
      "execution_count": 27,
      "metadata": {
        "colab": {
          "base_uri": "https://localhost:8080/",
          "height": 35
        },
        "id": "MvMzcIs7P0F3",
        "outputId": "5bbdbc7c-f6a7-4f50-e376-656b292048cc"
      },
      "outputs": [
        {
          "output_type": "execute_result",
          "data": {
            "text/plain": [
              "'Iris-versicolor'"
            ],
            "application/vnd.google.colaboratory.intrinsic+json": {
              "type": "string"
            }
          },
          "metadata": {},
          "execution_count": 27
        }
      ],
      "source": [
        "classify_example(example, tree)"
      ]
    },
    {
      "cell_type": "markdown",
      "metadata": {
        "id": "83xsm_6xP0F3"
      },
      "source": [
        "# Calculate Accuracy"
      ]
    },
    {
      "cell_type": "code",
      "execution_count": 28,
      "metadata": {
        "id": "JFtsxNI5P0F3"
      },
      "outputs": [],
      "source": [
        "def calculate_accuracy(df, tree):\n",
        "\n",
        "    df[\"classification\"] = df.apply(classify_example, axis=1, args=(tree,))\n",
        "    df[\"classification_correct\"] = df[\"classification\"] == df[\"label\"]\n",
        "\n",
        "    accuracy = df[\"classification_correct\"].mean()\n",
        "\n",
        "    return accuracy"
      ]
    },
    {
      "cell_type": "markdown",
      "metadata": {
        "id": "6PU-zcERP0F4"
      },
      "source": [
        "Train accuracy"
      ]
    },
    {
      "cell_type": "code",
      "execution_count": 29,
      "metadata": {
        "colab": {
          "base_uri": "https://localhost:8080/"
        },
        "id": "BF2DYHmnP0F4",
        "outputId": "61dbb113-2755-43b1-d170-955ad4b26681"
      },
      "outputs": [
        {
          "output_type": "execute_result",
          "data": {
            "text/plain": [
              "0.9846153846153847"
            ]
          },
          "metadata": {},
          "execution_count": 29
        }
      ],
      "source": [
        "accuracy = calculate_accuracy(train_df, tree)\n",
        "accuracy"
      ]
    },
    {
      "cell_type": "markdown",
      "metadata": {
        "id": "xFvSW02PP0F4"
      },
      "source": [
        "Test accuracy"
      ]
    },
    {
      "cell_type": "code",
      "execution_count": 30,
      "metadata": {
        "colab": {
          "base_uri": "https://localhost:8080/"
        },
        "id": "dJvVz2fBP0F4",
        "outputId": "96aaf9b7-4bec-44d9-c29c-412f2fc63402"
      },
      "outputs": [
        {
          "output_type": "execute_result",
          "data": {
            "text/plain": [
              "0.95"
            ]
          },
          "metadata": {},
          "execution_count": 30
        }
      ],
      "source": [
        "accuracy = calculate_accuracy(test_df, tree)\n",
        "accuracy"
      ]
    },
    {
      "cell_type": "code",
      "execution_count": 31,
      "metadata": {
        "colab": {
          "base_uri": "https://localhost:8080/"
        },
        "id": "LZtu8lGRP0F4",
        "outputId": "8169025c-8eab-40e4-dfb2-d2fbc816477e"
      },
      "outputs": [
        {
          "output_type": "stream",
          "name": "stdout",
          "text": [
            "Train accuracy = 0.9846153846153847\n",
            "Test accuracy = 0.95\n"
          ]
        }
      ],
      "source": [
        "import sklearn.tree as SKTree\n",
        "from sklearn.metrics import accuracy_score\n",
        "\n",
        "clf = SKTree.DecisionTreeClassifier(criterion='entropy', max_depth=3)\n",
        "clf = clf.fit(train_df[['comprimento_sepala',\t'largura_sepala',\t'comprimento_petala',\t'largura_petala']], train_df['label'])\n",
        "\n",
        "print(f\"Train accuracy = {accuracy_score(train_df['label'],  clf.predict( train_df[['comprimento_sepala',\t'largura_sepala',\t'comprimento_petala',\t'largura_petala']] ) )}\")\n",
        "print(f\"Test accuracy = {accuracy_score(test_df['label'],  clf.predict( test_df[['comprimento_sepala',\t'largura_sepala',\t'comprimento_petala',\t'largura_petala']] ) )}\")\n"
      ]
    },
    {
      "cell_type": "code",
      "execution_count": 32,
      "metadata": {
        "colab": {
          "base_uri": "https://localhost:8080/"
        },
        "id": "MeMnMs8jP0F5",
        "outputId": "a0d13f25-bd3c-4662-f07b-c224f6cc785c"
      },
      "outputs": [
        {
          "output_type": "stream",
          "name": "stdout",
          "text": [
            "{'largura_petala <= 0.6': ['Iris-setosa',\n",
            "                           {'largura_petala <= 1.6': [{'comprimento_petala <= 4.9': ['Iris-versicolor',\n",
            "                                                                                     'Iris-virginica']},\n",
            "                                                      'Iris-virginica']}]}\n"
          ]
        }
      ],
      "source": [
        "pprint(tree, width=50)"
      ]
    },
    {
      "cell_type": "code",
      "execution_count": 33,
      "metadata": {
        "colab": {
          "base_uri": "https://localhost:8080/",
          "height": 562
        },
        "id": "pVBVIBWvP0F5",
        "outputId": "13b1c3b7-0ba2-4da4-a290-0451005a0436"
      },
      "outputs": [
        {
          "output_type": "execute_result",
          "data": {
            "text/plain": [
              "[Text(0.375, 0.875, 'x[2] <= 2.6\\nentropy = 1.584\\nsamples = 130\\nvalue = [46, 42, 42]'),\n",
              " Text(0.25, 0.625, 'entropy = 0.0\\nsamples = 46\\nvalue = [46, 0, 0]'),\n",
              " Text(0.5, 0.625, 'x[3] <= 1.65\\nentropy = 1.0\\nsamples = 84\\nvalue = [0, 42, 42]'),\n",
              " Text(0.25, 0.375, 'x[2] <= 4.95\\nentropy = 0.359\\nsamples = 44\\nvalue = [0, 41, 3]'),\n",
              " Text(0.125, 0.125, 'entropy = 0.0\\nsamples = 40\\nvalue = [0, 40, 0]'),\n",
              " Text(0.375, 0.125, 'entropy = 0.811\\nsamples = 4\\nvalue = [0, 1, 3]'),\n",
              " Text(0.75, 0.375, 'x[2] <= 4.85\\nentropy = 0.169\\nsamples = 40\\nvalue = [0, 1, 39]'),\n",
              " Text(0.625, 0.125, 'entropy = 0.811\\nsamples = 4\\nvalue = [0, 1, 3]'),\n",
              " Text(0.875, 0.125, 'entropy = 0.0\\nsamples = 36\\nvalue = [0, 0, 36]')]"
            ]
          },
          "metadata": {},
          "execution_count": 33
        },
        {
          "output_type": "display_data",
          "data": {
            "text/plain": [
              "<Figure size 640x480 with 1 Axes>"
            ],
            "image/png": "[encoded data removed]"
          },
          "metadata": {}
        }
      ],
      "source": [
        "SKTree.plot_tree(clf)"
      ]
    },
    {
      "cell_type": "code",
      "execution_count": 34,
      "metadata": {
        "colab": {
          "base_uri": "https://localhost:8080/",
          "height": 35
        },
        "id": "F0BfdabBP0F5",
        "outputId": "2d78fa15-c052-4522-a5ab-46baeea77b0f"
      },
      "outputs": [
        {
          "output_type": "execute_result",
          "data": {
            "text/plain": [
              "'iris.pdf'"
            ],
            "application/vnd.google.colaboratory.intrinsic+json": {
              "type": "string"
            }
          },
          "metadata": {},
          "execution_count": 34
        }
      ],
      "source": [
        "# Exportar árvore gerada pelo sklearn em PDF\n",
        "\n",
        "import graphviz\n",
        "dot_data = SKTree.export_graphviz(clf, out_file=None)\n",
        "graph = graphviz.Source(dot_data)\n",
        "graph.render(\"iris\")"
      ]
    },
    {
      "cell_type": "markdown",
      "metadata": {
        "id": "-NOXv_C6P0F5"
      },
      "source": [
        "## Exercício\n",
        "\n",
        "1) Treinar um classificador de Árvore de Decisão para o dataset Titanic, presente na pasta \"data\". A árvore gerada terá uma profundidade grande pela quantidade de atributos maior que o dataset da Iris.\n",
        "\n",
        "2) Fazer um laço de repetição incrementando a profundidade da árvore para (retreinando o classificador) e exibindo a acurácia na base de dados de treino e teste em um gráfico, e então identifcar se ocorre o sobreajuste.\n",
        "\n",
        "Dica: utilize a implementação do sklearn para facilitar a criação do gráfico."
      ]
    },
    {
      "cell_type": "code",
      "execution_count": 57,
      "metadata": {
        "id": "5SpyK1FRP0F5",
        "colab": {
          "base_uri": "https://localhost:8080/",
          "height": 666
        },
        "outputId": "b1936d19-3b42-46cc-c4c8-d6e8fd026055"
      },
      "outputs": [
        {
          "output_type": "stream",
          "name": "stderr",
          "text": [
            "<ipython-input-57-c5a02acc767f>:28: FutureWarning: Not prepending group keys to the result index of transform-like apply. In the future, the group keys will be included in the index, regardless of whether the applied function returns a like-indexed object.\n",
            "To preserve the previous behavior, use\n",
            "\n",
            "\t>>> .groupby(..., group_keys=False)\n",
            "\n",
            "To adopt the future behavior and silence this warning, use \n",
            "\n",
            "\t>>> .groupby(..., group_keys=True)\n",
            "  df_removed['Age'] = df_removed.groupby('Title')['Age'].apply(lambda x: x.fillna(x.mean()))\n"
          ]
        },
        {
          "output_type": "stream",
          "name": "stdout",
          "text": [
            "Colunas selecionadas:  ['Pclass', 'Sex', 'Age', 'SibSp', 'Parch', 'Fare', 'FamilySize', 'IsAlone', 'Fgroup', 'Agroup', 'Embarked_C', 'Embarked_Missing', 'Embarked_Q', 'Embarked_S', 'Title_1', 'Title_2', 'Title_3', 'Title_4', 'Title_5', 'Title_6']\n"
          ]
        },
        {
          "output_type": "display_data",
          "data": {
            "text/plain": [
              "<Figure size 640x480 with 1 Axes>"
            ],
            "image/png": "[encoded data removed]"
          },
          "metadata": {}
        }
      ],
      "source": [
        "import sklearn.tree as SKTree\n",
        "from sklearn.metrics import accuracy_score\n",
        "from sklearn.model_selection import train_test_split\n",
        "import re as re\n",
        "\n",
        "## Helper\n",
        "def get_title(name):\n",
        "    title_search = re.search(' ([A-Za-z]+)\\.', name)\n",
        "    if title_search:\n",
        "        return title_search.group(1)\n",
        "    return ''\n",
        "\n",
        "## Read dataset\n",
        "df_dataset = pd.read_csv('titanic.csv', index_col=None)\n",
        "\n",
        "\n",
        "## Feature Engineering\n",
        "df_removed = df_dataset.drop(columns=['PassengerId', 'Ticket', 'Cabin'])\n",
        "\n",
        "df_removed['FamilySize'] = df_removed['SibSp'] + df_removed['Parch'] + 1\n",
        "df_removed['IsAlone'] = 0\n",
        "df_removed.loc[df_removed['FamilySize'] == 1, 'IsAlone'] = 1\n",
        "df_removed['Fare'] = df_removed['Fare'].fillna(df_removed['Fare'].median())\n",
        "df_removed['Fgroup'] = pd.qcut(df_removed['Fare'], 10, labels=range(10))\n",
        "\n",
        "\n",
        "df_removed['Title'] = df_removed['Name'].apply(get_title)\n",
        "df_removed['Age'] = df_removed.groupby('Title')['Age'].apply(lambda x: x.fillna(x.mean()))\n",
        "\n",
        "df_removed['Title'] = df_removed['Title'].replace(['Capt', 'Col', 'Countess', 'Don', 'Dona' , 'Dr', 'Jonkheer', 'Lady',\n",
        "                                             'Major', 'Master',  'Miss'  ,'Mlle', 'Mme', 'Mr', 'Mrs', 'Ms', 'Rev', 'Sir'],\n",
        "                                            ['Sacrificed', 'Respected', 'Nobles', 'Mr', 'Mrs', 'Respected', 'Mr', 'Nobles',\n",
        "                                             'Respected', 'Kids', 'Miss', 'Nobles', 'Nobles', 'Mr', 'Mrs', 'Nobles', 'Sacrificed', 'Nobles'])\n",
        "df_removed['Title'] = df_removed['Title'].replace(['Kids', 'Miss', 'Mr', 'Mrs', 'Nobles', 'Respected', 'Sacrificed'], [4, 4, 2, 5, 6, 3, 1])\n",
        "\n",
        "\n",
        "df_removed['Agroup'] = pd.qcut(df_removed['Age'], 10, labels=range(10))\n",
        "\n",
        "\n",
        "values = {'Age': 20, 'Embarked': 'Missing'}\n",
        "df_filled = df_removed.fillna(value=values)\n",
        "\n",
        "df_filled['Sex'] = df_filled.Sex.map({\"female\":0, \"male\":1})\n",
        "\n",
        "df_dummy = pd.get_dummies(df_filled, columns=['Embarked', 'Title'])\n",
        "\n",
        "\n",
        "df_filter = df_dummy.drop([\"Name\"], axis=1)\n",
        "\n",
        "X_columns = df_filter.columns.tolist()\n",
        "X_columns.remove('Survived')\n",
        "\n",
        "print(\"Colunas selecionadas: \",X_columns)\n",
        "\n",
        "X = df_filter[X_columns]\n",
        "y = df_filter.Survived\n",
        "\n",
        "\n",
        "X_train, X_test, y_train, y_test = train_test_split(X, y, test_size=0.3, random_state=42)\n",
        "\n",
        "\n",
        "## Train / Test\n",
        "history_acc_train = []\n",
        "history_acc_test = []\n",
        "\n",
        "for max_depth in range(1,10):\n",
        "  clf = SKTree.DecisionTreeClassifier(criterion='entropy', max_depth=max_depth)\n",
        "  clf = clf.fit(X_train, y_train)\n",
        "  history_acc_train.append(accuracy_score(y_train,  clf.predict(X_train)))\n",
        "  history_acc_test.append(accuracy_score(y_test,  clf.predict(X_test)))\n",
        "\n",
        "## Avaliation\n",
        "\n",
        "plt.plot(history_acc_train)\n",
        "plt.plot(history_acc_test)\n",
        "plt.title('model accuracy')\n",
        "plt.ylabel('accuracy')\n",
        "plt.xlabel('max_depth')\n",
        "plt.legend(['train', 'val'], loc='upper left')\n",
        "plt.show()\n"
      ]
    },
    {
      "cell_type": "markdown",
      "source": [
        "## **Resposta:**\n",
        "\n",
        "O sobreajuste ocorre proximo da profundida 5 e 6"
      ],
      "metadata": {
        "id": "ksHw8m2z9scj"
      }
    }
  ],
  "metadata": {
    "kernelspec": {
      "display_name": "Python 3",
      "language": "python",
      "name": "python3"
    },
    "language_info": {
      "codemirror_mode": {
        "name": "ipython",
        "version": 3
      },
      "file_extension": ".py",
      "mimetype": "text/x-python",
      "name": "python",
      "nbconvert_exporter": "python",
      "pygments_lexer": "ipython3",
      "version": "3.6.9"
    },
    "colab": {
      "provenance": []
    }
  },
  "nbformat": 4,
  "nbformat_minor": 0
}