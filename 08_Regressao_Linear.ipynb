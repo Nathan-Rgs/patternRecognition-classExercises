{
  "cells": [
    {
      "cell_type": "markdown",
      "metadata": {
        "id": "Lo1W0brKLmrM"
      },
      "source": [
        "## Aula 07 - Regressão Linear"
      ]
    },
    {
      "cell_type": "markdown",
      "metadata": {
        "id": "AaQMk3ESLmrQ"
      },
      "source": [
        "Até agora foram vistos alguns conceitos de classificação. Outro importante aspecto do aprendizado supervisionado são os modelos de aprendizagem para problemas de regressão. Nestes problemas, a saída esperada é contínua, em vez de valores discretos como na classificação.\n",
        "\n",
        "Um conjunto de dados de propaganda é disponibilizado junto com esse notebook, onde cada linha indica um tipo de mercado diferente. Importe os dados para visualizar a estrutura deles:"
      ]
    },
    {
      "cell_type": "code",
      "execution_count": null,
      "metadata": {
        "colab": {
          "base_uri": "https://localhost:8080/",
          "height": 206
        },
        "id": "DcL5TDz7LmrQ",
        "outputId": "f507ad7b-0c4e-4736-8c3b-bc9e7696a0d5"
      },
      "outputs": [
        {
          "output_type": "display_data",
          "data": {
            "text/plain": [
              "      TV  Radio  Newspaper  Sales\n",
              "1  230.1   37.8       69.2   22.1\n",
              "2   44.5   39.3       45.1   10.4\n",
              "3   17.2   45.9       69.3    9.3\n",
              "4  151.5   41.3       58.5   18.5\n",
              "5  180.8   10.8       58.4   12.9"
            ],
            "text/html": [
              "\n",
              "  <div id=\"df-a8ff68e8-69a7-48b7-96ca-f5f93b6f126f\" class=\"colab-df-container\">\n",
              "    <div>\n",
              "<style scoped>\n",
              "    .dataframe tbody tr th:only-of-type {\n",
              "        vertical-align: middle;\n",
              "    }\n",
              "\n",
              "    .dataframe tbody tr th {\n",
              "        vertical-align: top;\n",
              "    }\n",
              "\n",
              "    .dataframe thead th {\n",
              "        text-align: right;\n",
              "    }\n",
              "</style>\n",
              "<table border=\"1\" class=\"dataframe\">\n",
              "  <thead>\n",
              "    <tr style=\"text-align: right;\">\n",
              "      <th></th>\n",
              "      <th>TV</th>\n",
              "      <th>Radio</th>\n",
              "      <th>Newspaper</th>\n",
              "      <th>Sales</th>\n",
              "    </tr>\n",
              "  </thead>\n",
              "  <tbody>\n",
              "    <tr>\n",
              "      <th>1</th>\n",
              "      <td>230.1</td>\n",
              "      <td>37.8</td>\n",
              "      <td>69.2</td>\n",
              "      <td>22.1</td>\n",
              "    </tr>\n",
              "    <tr>\n",
              "      <th>2</th>\n",
              "      <td>44.5</td>\n",
              "      <td>39.3</td>\n",
              "      <td>45.1</td>\n",
              "      <td>10.4</td>\n",
              "    </tr>\n",
              "    <tr>\n",
              "      <th>3</th>\n",
              "      <td>17.2</td>\n",
              "      <td>45.9</td>\n",
              "      <td>69.3</td>\n",
              "      <td>9.3</td>\n",
              "    </tr>\n",
              "    <tr>\n",
              "      <th>4</th>\n",
              "      <td>151.5</td>\n",
              "      <td>41.3</td>\n",
              "      <td>58.5</td>\n",
              "      <td>18.5</td>\n",
              "    </tr>\n",
              "    <tr>\n",
              "      <th>5</th>\n",
              "      <td>180.8</td>\n",
              "      <td>10.8</td>\n",
              "      <td>58.4</td>\n",
              "      <td>12.9</td>\n",
              "    </tr>\n",
              "  </tbody>\n",
              "</table>\n",
              "</div>\n",
              "    <div class=\"colab-df-buttons\">\n",
              "\n",
              "  <div class=\"colab-df-container\">\n",
              "    <button class=\"colab-df-convert\" onclick=\"convertToInteractive('df-a8ff68e8-69a7-48b7-96ca-f5f93b6f126f')\"\n",
              "            title=\"Convert this dataframe to an interactive table.\"\n",
              "            style=\"display:none;\">\n",
              "\n",
              "  <svg xmlns=\"http://www.w3.org/2000/svg\" height=\"24px\" viewBox=\"0 -960 960 960\">\n",
              "    <path d=\"M120-120v-720h720v720H120Zm60-500h600v-160H180v160Zm220 220h160v-160H400v160Zm0 220h160v-160H400v160ZM180-400h160v-160H180v160Zm440 0h160v-160H620v160ZM180-180h160v-160H180v160Zm440 0h160v-160H620v160Z\"/>\n",
              "  </svg>\n",
              "    </button>\n",
              "\n",
              "  <style>\n",
              "    .colab-df-container {\n",
              "      display:flex;\n",
              "      gap: 12px;\n",
              "    }\n",
              "\n",
              "    .colab-df-convert {\n",
              "      background-color: #E8F0FE;\n",
              "      border: none;\n",
              "      border-radius: 50%;\n",
              "      cursor: pointer;\n",
              "      display: none;\n",
              "      fill: #1967D2;\n",
              "      height: 32px;\n",
              "      padding: 0 0 0 0;\n",
              "      width: 32px;\n",
              "    }\n",
              "\n",
              "    .colab-df-convert:hover {\n",
              "      background-color: #E2EBFA;\n",
              "      box-shadow: 0px 1px 2px rgba(60, 64, 67, 0.3), 0px 1px 3px 1px rgba(60, 64, 67, 0.15);\n",
              "      fill: #174EA6;\n",
              "    }\n",
              "\n",
              "    .colab-df-buttons div {\n",
              "      margin-bottom: 4px;\n",
              "    }\n",
              "\n",
              "    [theme=dark] .colab-df-convert {\n",
              "      background-color: #3B4455;\n",
              "      fill: #D2E3FC;\n",
              "    }\n",
              "\n",
              "    [theme=dark] .colab-df-convert:hover {\n",
              "      background-color: #434B5C;\n",
              "      box-shadow: 0px 1px 3px 1px rgba(0, 0, 0, 0.15);\n",
              "      filter: drop-shadow(0px 1px 2px rgba(0, 0, 0, 0.3));\n",
              "      fill: #FFFFFF;\n",
              "    }\n",
              "  </style>\n",
              "\n",
              "    <script>\n",
              "      const buttonEl =\n",
              "        document.querySelector('#df-a8ff68e8-69a7-48b7-96ca-f5f93b6f126f button.colab-df-convert');\n",
              "      buttonEl.style.display =\n",
              "        google.colab.kernel.accessAllowed ? 'block' : 'none';\n",
              "\n",
              "      async function convertToInteractive(key) {\n",
              "        const element = document.querySelector('#df-a8ff68e8-69a7-48b7-96ca-f5f93b6f126f');\n",
              "        const dataTable =\n",
              "          await google.colab.kernel.invokeFunction('convertToInteractive',\n",
              "                                                    [key], {});\n",
              "        if (!dataTable) return;\n",
              "\n",
              "        const docLinkHtml = 'Like what you see? Visit the ' +\n",
              "          '<a target=\"_blank\" href=https://colab.research.google.com/notebooks/data_table.ipynb>data table notebook</a>'\n",
              "          + ' to learn more about interactive tables.';\n",
              "        element.innerHTML = '';\n",
              "        dataTable['output_type'] = 'display_data';\n",
              "        await google.colab.output.renderOutput(dataTable, element);\n",
              "        const docLink = document.createElement('div');\n",
              "        docLink.innerHTML = docLinkHtml;\n",
              "        element.appendChild(docLink);\n",
              "      }\n",
              "    </script>\n",
              "  </div>\n",
              "\n",
              "\n",
              "<div id=\"df-071c347f-8a78-4268-bb8d-4f9d459afbc1\">\n",
              "  <button class=\"colab-df-quickchart\" onclick=\"quickchart('df-071c347f-8a78-4268-bb8d-4f9d459afbc1')\"\n",
              "            title=\"Suggest charts.\"\n",
              "            style=\"display:none;\">\n",
              "\n",
              "<svg xmlns=\"http://www.w3.org/2000/svg\" height=\"24px\"viewBox=\"0 0 24 24\"\n",
              "     width=\"24px\">\n",
              "    <g>\n",
              "        <path d=\"M19 3H5c-1.1 0-2 .9-2 2v14c0 1.1.9 2 2 2h14c1.1 0 2-.9 2-2V5c0-1.1-.9-2-2-2zM9 17H7v-7h2v7zm4 0h-2V7h2v10zm4 0h-2v-4h2v4z\"/>\n",
              "    </g>\n",
              "</svg>\n",
              "  </button>\n",
              "\n",
              "<style>\n",
              "  .colab-df-quickchart {\n",
              "      --bg-color: #E8F0FE;\n",
              "      --fill-color: #1967D2;\n",
              "      --hover-bg-color: #E2EBFA;\n",
              "      --hover-fill-color: #174EA6;\n",
              "      --disabled-fill-color: #AAA;\n",
              "      --disabled-bg-color: #DDD;\n",
              "  }\n",
              "\n",
              "  [theme=dark] .colab-df-quickchart {\n",
              "      --bg-color: #3B4455;\n",
              "      --fill-color: #D2E3FC;\n",
              "      --hover-bg-color: #434B5C;\n",
              "      --hover-fill-color: #FFFFFF;\n",
              "      --disabled-bg-color: #3B4455;\n",
              "      --disabled-fill-color: #666;\n",
              "  }\n",
              "\n",
              "  .colab-df-quickchart {\n",
              "    background-color: var(--bg-color);\n",
              "    border: none;\n",
              "    border-radius: 50%;\n",
              "    cursor: pointer;\n",
              "    display: none;\n",
              "    fill: var(--fill-color);\n",
              "    height: 32px;\n",
              "    padding: 0;\n",
              "    width: 32px;\n",
              "  }\n",
              "\n",
              "  .colab-df-quickchart:hover {\n",
              "    background-color: var(--hover-bg-color);\n",
              "    box-shadow: 0 1px 2px rgba(60, 64, 67, 0.3), 0 1px 3px 1px rgba(60, 64, 67, 0.15);\n",
              "    fill: var(--button-hover-fill-color);\n",
              "  }\n",
              "\n",
              "  .colab-df-quickchart-complete:disabled,\n",
              "  .colab-df-quickchart-complete:disabled:hover {\n",
              "    background-color: var(--disabled-bg-color);\n",
              "    fill: var(--disabled-fill-color);\n",
              "    box-shadow: none;\n",
              "  }\n",
              "\n",
              "  .colab-df-spinner {\n",
              "    border: 2px solid var(--fill-color);\n",
              "    border-color: transparent;\n",
              "    border-bottom-color: var(--fill-color);\n",
              "    animation:\n",
              "      spin 1s steps(1) infinite;\n",
              "  }\n",
              "\n",
              "  @keyframes spin {\n",
              "    0% {\n",
              "      border-color: transparent;\n",
              "      border-bottom-color: var(--fill-color);\n",
              "      border-left-color: var(--fill-color);\n",
              "    }\n",
              "    20% {\n",
              "      border-color: transparent;\n",
              "      border-left-color: var(--fill-color);\n",
              "      border-top-color: var(--fill-color);\n",
              "    }\n",
              "    30% {\n",
              "      border-color: transparent;\n",
              "      border-left-color: var(--fill-color);\n",
              "      border-top-color: var(--fill-color);\n",
              "      border-right-color: var(--fill-color);\n",
              "    }\n",
              "    40% {\n",
              "      border-color: transparent;\n",
              "      border-right-color: var(--fill-color);\n",
              "      border-top-color: var(--fill-color);\n",
              "    }\n",
              "    60% {\n",
              "      border-color: transparent;\n",
              "      border-right-color: var(--fill-color);\n",
              "    }\n",
              "    80% {\n",
              "      border-color: transparent;\n",
              "      border-right-color: var(--fill-color);\n",
              "      border-bottom-color: var(--fill-color);\n",
              "    }\n",
              "    90% {\n",
              "      border-color: transparent;\n",
              "      border-bottom-color: var(--fill-color);\n",
              "    }\n",
              "  }\n",
              "</style>\n",
              "\n",
              "  <script>\n",
              "    async function quickchart(key) {\n",
              "      const quickchartButtonEl =\n",
              "        document.querySelector('#' + key + ' button');\n",
              "      quickchartButtonEl.disabled = true;  // To prevent multiple clicks.\n",
              "      quickchartButtonEl.classList.add('colab-df-spinner');\n",
              "      try {\n",
              "        const charts = await google.colab.kernel.invokeFunction(\n",
              "            'suggestCharts', [key], {});\n",
              "      } catch (error) {\n",
              "        console.error('Error during call to suggestCharts:', error);\n",
              "      }\n",
              "      quickchartButtonEl.classList.remove('colab-df-spinner');\n",
              "      quickchartButtonEl.classList.add('colab-df-quickchart-complete');\n",
              "    }\n",
              "    (() => {\n",
              "      let quickchartButtonEl =\n",
              "        document.querySelector('#df-071c347f-8a78-4268-bb8d-4f9d459afbc1 button');\n",
              "      quickchartButtonEl.style.display =\n",
              "        google.colab.kernel.accessAllowed ? 'block' : 'none';\n",
              "    })();\n",
              "  </script>\n",
              "</div>\n",
              "    </div>\n",
              "  </div>\n"
            ]
          },
          "metadata": {}
        }
      ],
      "source": [
        "import pandas as pd\n",
        "import numpy as np\n",
        "\n",
        "data = pd.read_csv('ad.data', index_col=0)\n",
        "display(data.head())"
      ]
    },
    {
      "cell_type": "code",
      "execution_count": null,
      "metadata": {
        "colab": {
          "base_uri": "https://localhost:8080/"
        },
        "id": "_XwdkJNwLmrS",
        "outputId": "43fbbfa6-aaef-49fd-86cd-c177f267c66a"
      },
      "outputs": [
        {
          "output_type": "execute_result",
          "data": {
            "text/plain": [
              "(200, 4)"
            ]
          },
          "metadata": {},
          "execution_count": 2
        }
      ],
      "source": [
        "data.shape"
      ]
    },
    {
      "cell_type": "markdown",
      "metadata": {
        "id": "uOB0oXx0LmrT"
      },
      "source": [
        "Quais são os atributos?\n",
        "- **TV:** dólares gastos em propagandas veiculadas na TV para um produto em determinado mercado (em milhões)\n",
        "- **Radio:** dólares gastos em propagandas veiculadas em rádio\n",
        "- **Newspaper:** dólares gastos com propaganda em jornais\n",
        "\n",
        "Qual o rótulo da amostra?\n",
        "- **Sales:** vendas (em milhares) de um determinado item em um mercado específico"
      ]
    },
    {
      "cell_type": "markdown",
      "metadata": {
        "id": "CLooutMMLmrT"
      },
      "source": [
        "Para facilitar, os dados também poderiam ser visualizados para compreender melhor com a distribuição, e se há alguma tendência."
      ]
    },
    {
      "cell_type": "code",
      "execution_count": null,
      "metadata": {
        "colab": {
          "base_uri": "https://localhost:8080/",
          "height": 761
        },
        "id": "npodQ2CkLmrT",
        "outputId": "ff9a3413-c1b7-4a1b-edf5-35e41e37e11b"
      },
      "outputs": [
        {
          "output_type": "stream",
          "name": "stderr",
          "text": [
            "/usr/local/lib/python3.10/dist-packages/seaborn/axisgrid.py:2095: UserWarning: The `size` parameter has been renamed to `height`; please update your code.\n",
            "  warnings.warn(msg, UserWarning)\n"
          ]
        },
        {
          "output_type": "execute_result",
          "data": {
            "text/plain": [
              "<seaborn.axisgrid.PairGrid at 0x794bcec96da0>"
            ]
          },
          "metadata": {},
          "execution_count": 3
        },
        {
          "output_type": "display_data",
          "data": {
            "text/plain": [
              "<Figure size 1470x700 with 3 Axes>"
            ],
            "image/png": "[encoded data removed]"
          },
          "metadata": {}
        }
      ],
      "source": [
        "import seaborn as sns\n",
        "%matplotlib inline\n",
        "\n",
        "sns.pairplot(data, x_vars=['TV','Radio','Newspaper'], y_vars='Sales', size=7, aspect=0.7, kind='reg')"
      ]
    },
    {
      "cell_type": "markdown",
      "metadata": {
        "id": "99XOl9KYLmrU"
      },
      "source": [
        "## Regressão Linear\n",
        "\n",
        "Uma das formas de resolver um problema desse tipo é aplicando a regressão linear. Nesse método, procura-se uma função capaz de traçar uma linha de tendência que servirá para prever um valor futuro em determinadas condições. A vantagem é que é um modelo matematicamente simples de interpretar. A desvantagem é que dificilmente levará a uma acurácia satisfatória."
      ]
    },
    {
      "cell_type": "markdown",
      "metadata": {
        "id": "MwzHxNRYLmrU"
      },
      "source": [
        "### Forma da regressão linear:\n",
        "\n",
        "$y = \\beta_0 + \\beta_1x_1 + \\beta_2x_2 + ... + \\beta_nx_n$\n",
        "\n",
        "- $y$ é a saída\n",
        "- $\\beta_0$ é um valor de bias (deslocamento)\n",
        "- $\\beta_1$ é o coeficiente de $x_1$ (do primeiro atributo)\n",
        "- $\\beta_n$ é o coeficiente de $x_n$ (do n-ésimo atributo)\n",
        "\n",
        "Assim, para esse problema, tem-se:\n",
        "\n",
        "$y = \\beta_0 + \\beta_1 \\times TV + \\beta_2 \\times Radio + \\beta_3 \\times Newspaper$\n",
        "\n",
        "Os valores $\\beta$ são chamados de **coeficientes de modelo** e são ajustados na etapa de aprendizagem, a qual acontece com o ajuste do modelo utilizando o critério dos \"quadrados mínimos\". Uma vez aprendidos esses parâmetros, o modelo pode ser usado de forma preditiva!"
      ]
    },
    {
      "cell_type": "markdown",
      "metadata": {
        "id": "txfqVZwlLmrV"
      },
      "source": [
        "### Separando os atributos da classe"
      ]
    },
    {
      "cell_type": "code",
      "execution_count": null,
      "metadata": {
        "colab": {
          "base_uri": "https://localhost:8080/",
          "height": 206
        },
        "id": "_aP8rmtuLmrV",
        "outputId": "974fbd5f-0def-447b-b633-a796b8dae5cd"
      },
      "outputs": [
        {
          "output_type": "execute_result",
          "data": {
            "text/plain": [
              "      TV  Radio  Newspaper\n",
              "1  230.1   37.8       69.2\n",
              "2   44.5   39.3       45.1\n",
              "3   17.2   45.9       69.3\n",
              "4  151.5   41.3       58.5\n",
              "5  180.8   10.8       58.4"
            ],
            "text/html": [
              "\n",
              "  <div id=\"df-e5dc8e99-7b47-4117-91fa-830ab54df07f\" class=\"colab-df-container\">\n",
              "    <div>\n",
              "<style scoped>\n",
              "    .dataframe tbody tr th:only-of-type {\n",
              "        vertical-align: middle;\n",
              "    }\n",
              "\n",
              "    .dataframe tbody tr th {\n",
              "        vertical-align: top;\n",
              "    }\n",
              "\n",
              "    .dataframe thead th {\n",
              "        text-align: right;\n",
              "    }\n",
              "</style>\n",
              "<table border=\"1\" class=\"dataframe\">\n",
              "  <thead>\n",
              "    <tr style=\"text-align: right;\">\n",
              "      <th></th>\n",
              "      <th>TV</th>\n",
              "      <th>Radio</th>\n",
              "      <th>Newspaper</th>\n",
              "    </tr>\n",
              "  </thead>\n",
              "  <tbody>\n",
              "    <tr>\n",
              "      <th>1</th>\n",
              "      <td>230.1</td>\n",
              "      <td>37.8</td>\n",
              "      <td>69.2</td>\n",
              "    </tr>\n",
              "    <tr>\n",
              "      <th>2</th>\n",
              "      <td>44.5</td>\n",
              "      <td>39.3</td>\n",
              "      <td>45.1</td>\n",
              "    </tr>\n",
              "    <tr>\n",
              "      <th>3</th>\n",
              "      <td>17.2</td>\n",
              "      <td>45.9</td>\n",
              "      <td>69.3</td>\n",
              "    </tr>\n",
              "    <tr>\n",
              "      <th>4</th>\n",
              "      <td>151.5</td>\n",
              "      <td>41.3</td>\n",
              "      <td>58.5</td>\n",
              "    </tr>\n",
              "    <tr>\n",
              "      <th>5</th>\n",
              "      <td>180.8</td>\n",
              "      <td>10.8</td>\n",
              "      <td>58.4</td>\n",
              "    </tr>\n",
              "  </tbody>\n",
              "</table>\n",
              "</div>\n",
              "    <div class=\"colab-df-buttons\">\n",
              "\n",
              "  <div class=\"colab-df-container\">\n",
              "    <button class=\"colab-df-convert\" onclick=\"convertToInteractive('df-e5dc8e99-7b47-4117-91fa-830ab54df07f')\"\n",
              "            title=\"Convert this dataframe to an interactive table.\"\n",
              "            style=\"display:none;\">\n",
              "\n",
              "  <svg xmlns=\"http://www.w3.org/2000/svg\" height=\"24px\" viewBox=\"0 -960 960 960\">\n",
              "    <path d=\"M120-120v-720h720v720H120Zm60-500h600v-160H180v160Zm220 220h160v-160H400v160Zm0 220h160v-160H400v160ZM180-400h160v-160H180v160Zm440 0h160v-160H620v160ZM180-180h160v-160H180v160Zm440 0h160v-160H620v160Z\"/>\n",
              "  </svg>\n",
              "    </button>\n",
              "\n",
              "  <style>\n",
              "    .colab-df-container {\n",
              "      display:flex;\n",
              "      gap: 12px;\n",
              "    }\n",
              "\n",
              "    .colab-df-convert {\n",
              "      background-color: #E8F0FE;\n",
              "      border: none;\n",
              "      border-radius: 50%;\n",
              "      cursor: pointer;\n",
              "      display: none;\n",
              "      fill: #1967D2;\n",
              "      height: 32px;\n",
              "      padding: 0 0 0 0;\n",
              "      width: 32px;\n",
              "    }\n",
              "\n",
              "    .colab-df-convert:hover {\n",
              "      background-color: #E2EBFA;\n",
              "      box-shadow: 0px 1px 2px rgba(60, 64, 67, 0.3), 0px 1px 3px 1px rgba(60, 64, 67, 0.15);\n",
              "      fill: #174EA6;\n",
              "    }\n",
              "\n",
              "    .colab-df-buttons div {\n",
              "      margin-bottom: 4px;\n",
              "    }\n",
              "\n",
              "    [theme=dark] .colab-df-convert {\n",
              "      background-color: #3B4455;\n",
              "      fill: #D2E3FC;\n",
              "    }\n",
              "\n",
              "    [theme=dark] .colab-df-convert:hover {\n",
              "      background-color: #434B5C;\n",
              "      box-shadow: 0px 1px 3px 1px rgba(0, 0, 0, 0.15);\n",
              "      filter: drop-shadow(0px 1px 2px rgba(0, 0, 0, 0.3));\n",
              "      fill: #FFFFFF;\n",
              "    }\n",
              "  </style>\n",
              "\n",
              "    <script>\n",
              "      const buttonEl =\n",
              "        document.querySelector('#df-e5dc8e99-7b47-4117-91fa-830ab54df07f button.colab-df-convert');\n",
              "      buttonEl.style.display =\n",
              "        google.colab.kernel.accessAllowed ? 'block' : 'none';\n",
              "\n",
              "      async function convertToInteractive(key) {\n",
              "        const element = document.querySelector('#df-e5dc8e99-7b47-4117-91fa-830ab54df07f');\n",
              "        const dataTable =\n",
              "          await google.colab.kernel.invokeFunction('convertToInteractive',\n",
              "                                                    [key], {});\n",
              "        if (!dataTable) return;\n",
              "\n",
              "        const docLinkHtml = 'Like what you see? Visit the ' +\n",
              "          '<a target=\"_blank\" href=https://colab.research.google.com/notebooks/data_table.ipynb>data table notebook</a>'\n",
              "          + ' to learn more about interactive tables.';\n",
              "        element.innerHTML = '';\n",
              "        dataTable['output_type'] = 'display_data';\n",
              "        await google.colab.output.renderOutput(dataTable, element);\n",
              "        const docLink = document.createElement('div');\n",
              "        docLink.innerHTML = docLinkHtml;\n",
              "        element.appendChild(docLink);\n",
              "      }\n",
              "    </script>\n",
              "  </div>\n",
              "\n",
              "\n",
              "<div id=\"df-cd892a18-cc55-4274-8c1a-b0ea54522773\">\n",
              "  <button class=\"colab-df-quickchart\" onclick=\"quickchart('df-cd892a18-cc55-4274-8c1a-b0ea54522773')\"\n",
              "            title=\"Suggest charts.\"\n",
              "            style=\"display:none;\">\n",
              "\n",
              "<svg xmlns=\"http://www.w3.org/2000/svg\" height=\"24px\"viewBox=\"0 0 24 24\"\n",
              "     width=\"24px\">\n",
              "    <g>\n",
              "        <path d=\"M19 3H5c-1.1 0-2 .9-2 2v14c0 1.1.9 2 2 2h14c1.1 0 2-.9 2-2V5c0-1.1-.9-2-2-2zM9 17H7v-7h2v7zm4 0h-2V7h2v10zm4 0h-2v-4h2v4z\"/>\n",
              "    </g>\n",
              "</svg>\n",
              "  </button>\n",
              "\n",
              "<style>\n",
              "  .colab-df-quickchart {\n",
              "      --bg-color: #E8F0FE;\n",
              "      --fill-color: #1967D2;\n",
              "      --hover-bg-color: #E2EBFA;\n",
              "      --hover-fill-color: #174EA6;\n",
              "      --disabled-fill-color: #AAA;\n",
              "      --disabled-bg-color: #DDD;\n",
              "  }\n",
              "\n",
              "  [theme=dark] .colab-df-quickchart {\n",
              "      --bg-color: #3B4455;\n",
              "      --fill-color: #D2E3FC;\n",
              "      --hover-bg-color: #434B5C;\n",
              "      --hover-fill-color: #FFFFFF;\n",
              "      --disabled-bg-color: #3B4455;\n",
              "      --disabled-fill-color: #666;\n",
              "  }\n",
              "\n",
              "  .colab-df-quickchart {\n",
              "    background-color: var(--bg-color);\n",
              "    border: none;\n",
              "    border-radius: 50%;\n",
              "    cursor: pointer;\n",
              "    display: none;\n",
              "    fill: var(--fill-color);\n",
              "    height: 32px;\n",
              "    padding: 0;\n",
              "    width: 32px;\n",
              "  }\n",
              "\n",
              "  .colab-df-quickchart:hover {\n",
              "    background-color: var(--hover-bg-color);\n",
              "    box-shadow: 0 1px 2px rgba(60, 64, 67, 0.3), 0 1px 3px 1px rgba(60, 64, 67, 0.15);\n",
              "    fill: var(--button-hover-fill-color);\n",
              "  }\n",
              "\n",
              "  .colab-df-quickchart-complete:disabled,\n",
              "  .colab-df-quickchart-complete:disabled:hover {\n",
              "    background-color: var(--disabled-bg-color);\n",
              "    fill: var(--disabled-fill-color);\n",
              "    box-shadow: none;\n",
              "  }\n",
              "\n",
              "  .colab-df-spinner {\n",
              "    border: 2px solid var(--fill-color);\n",
              "    border-color: transparent;\n",
              "    border-bottom-color: var(--fill-color);\n",
              "    animation:\n",
              "      spin 1s steps(1) infinite;\n",
              "  }\n",
              "\n",
              "  @keyframes spin {\n",
              "    0% {\n",
              "      border-color: transparent;\n",
              "      border-bottom-color: var(--fill-color);\n",
              "      border-left-color: var(--fill-color);\n",
              "    }\n",
              "    20% {\n",
              "      border-color: transparent;\n",
              "      border-left-color: var(--fill-color);\n",
              "      border-top-color: var(--fill-color);\n",
              "    }\n",
              "    30% {\n",
              "      border-color: transparent;\n",
              "      border-left-color: var(--fill-color);\n",
              "      border-top-color: var(--fill-color);\n",
              "      border-right-color: var(--fill-color);\n",
              "    }\n",
              "    40% {\n",
              "      border-color: transparent;\n",
              "      border-right-color: var(--fill-color);\n",
              "      border-top-color: var(--fill-color);\n",
              "    }\n",
              "    60% {\n",
              "      border-color: transparent;\n",
              "      border-right-color: var(--fill-color);\n",
              "    }\n",
              "    80% {\n",
              "      border-color: transparent;\n",
              "      border-right-color: var(--fill-color);\n",
              "      border-bottom-color: var(--fill-color);\n",
              "    }\n",
              "    90% {\n",
              "      border-color: transparent;\n",
              "      border-bottom-color: var(--fill-color);\n",
              "    }\n",
              "  }\n",
              "</style>\n",
              "\n",
              "  <script>\n",
              "    async function quickchart(key) {\n",
              "      const quickchartButtonEl =\n",
              "        document.querySelector('#' + key + ' button');\n",
              "      quickchartButtonEl.disabled = true;  // To prevent multiple clicks.\n",
              "      quickchartButtonEl.classList.add('colab-df-spinner');\n",
              "      try {\n",
              "        const charts = await google.colab.kernel.invokeFunction(\n",
              "            'suggestCharts', [key], {});\n",
              "      } catch (error) {\n",
              "        console.error('Error during call to suggestCharts:', error);\n",
              "      }\n",
              "      quickchartButtonEl.classList.remove('colab-df-spinner');\n",
              "      quickchartButtonEl.classList.add('colab-df-quickchart-complete');\n",
              "    }\n",
              "    (() => {\n",
              "      let quickchartButtonEl =\n",
              "        document.querySelector('#df-cd892a18-cc55-4274-8c1a-b0ea54522773 button');\n",
              "      quickchartButtonEl.style.display =\n",
              "        google.colab.kernel.accessAllowed ? 'block' : 'none';\n",
              "    })();\n",
              "  </script>\n",
              "</div>\n",
              "    </div>\n",
              "  </div>\n"
            ]
          },
          "metadata": {},
          "execution_count": 4
        }
      ],
      "source": [
        "atributos = ['TV', 'Radio', 'Newspaper']\n",
        "\n",
        "X = data[atributos]\n",
        "X.head()"
      ]
    },
    {
      "cell_type": "code",
      "execution_count": null,
      "metadata": {
        "colab": {
          "base_uri": "https://localhost:8080/"
        },
        "id": "zKsrbTIvLmrV",
        "outputId": "3c9d615b-904b-479a-8583-a540afa3c1cb"
      },
      "outputs": [
        {
          "output_type": "execute_result",
          "data": {
            "text/plain": [
              "1    22.1\n",
              "2    10.4\n",
              "3     9.3\n",
              "4    18.5\n",
              "5    12.9\n",
              "Name: Sales, dtype: float64"
            ]
          },
          "metadata": {},
          "execution_count": 5
        }
      ],
      "source": [
        "y = data['Sales']\n",
        "y.head()"
      ]
    },
    {
      "cell_type": "markdown",
      "metadata": {
        "id": "8ulU_eszLmrW"
      },
      "source": [
        "Em seguida, é necessário dividir quais dados serão apresentados na etapa de treino e quais dados serão apresentados na etapa de teste:"
      ]
    },
    {
      "cell_type": "code",
      "execution_count": null,
      "metadata": {
        "colab": {
          "base_uri": "https://localhost:8080/"
        },
        "id": "fkwGLbfULmrW",
        "outputId": "c14f613d-0ae1-4988-f22a-dbe36819da7f"
      },
      "outputs": [
        {
          "output_type": "stream",
          "name": "stdout",
          "text": [
            "(140, 3)\n",
            "(140,)\n",
            "(60, 3)\n",
            "(60,)\n"
          ]
        }
      ],
      "source": [
        "from sklearn.model_selection import train_test_split\n",
        "\n",
        "X_train, X_test, y_train, y_test = train_test_split(X, y, test_size = 0.3, random_state=1)\n",
        "\n",
        "print(X_train.shape)\n",
        "print(y_train.shape)\n",
        "print(X_test.shape)\n",
        "print(y_test.shape)"
      ]
    },
    {
      "cell_type": "markdown",
      "metadata": {
        "id": "bP0igHk2LmrW"
      },
      "source": [
        "### Regressão linear no scikit-learn"
      ]
    },
    {
      "cell_type": "code",
      "execution_count": null,
      "metadata": {
        "colab": {
          "base_uri": "https://localhost:8080/",
          "height": 75
        },
        "id": "vGo8x0MgLmrW",
        "outputId": "bb49152c-e291-44f9-ba4a-7b7fdafb33c0"
      },
      "outputs": [
        {
          "output_type": "execute_result",
          "data": {
            "text/plain": [
              "LinearRegression()"
            ],
            "text/html": [
              "<style>#sk-container-id-1 {color: black;background-color: white;}#sk-container-id-1 pre{padding: 0;}#sk-container-id-1 div.sk-toggleable {background-color: white;}#sk-container-id-1 label.sk-toggleable__label {cursor: pointer;display: block;width: 100%;margin-bottom: 0;padding: 0.3em;box-sizing: border-box;text-align: center;}#sk-container-id-1 label.sk-toggleable__label-arrow:before {content: \"▸\";float: left;margin-right: 0.25em;color: #696969;}#sk-container-id-1 label.sk-toggleable__label-arrow:hover:before {color: black;}#sk-container-id-1 div.sk-estimator:hover label.sk-toggleable__label-arrow:before {color: black;}#sk-container-id-1 div.sk-toggleable__content {max-height: 0;max-width: 0;overflow: hidden;text-align: left;background-color: #f0f8ff;}#sk-container-id-1 div.sk-toggleable__content pre {margin: 0.2em;color: black;border-radius: 0.25em;background-color: #f0f8ff;}#sk-container-id-1 input.sk-toggleable__control:checked~div.sk-toggleable__content {max-height: 200px;max-width: 100%;overflow: auto;}#sk-container-id-1 input.sk-toggleable__control:checked~label.sk-toggleable__label-arrow:before {content: \"▾\";}#sk-container-id-1 div.sk-estimator input.sk-toggleable__control:checked~label.sk-toggleable__label {background-color: #d4ebff;}#sk-container-id-1 div.sk-label input.sk-toggleable__control:checked~label.sk-toggleable__label {background-color: #d4ebff;}#sk-container-id-1 input.sk-hidden--visually {border: 0;clip: rect(1px 1px 1px 1px);clip: rect(1px, 1px, 1px, 1px);height: 1px;margin: -1px;overflow: hidden;padding: 0;position: absolute;width: 1px;}#sk-container-id-1 div.sk-estimator {font-family: monospace;background-color: #f0f8ff;border: 1px dotted black;border-radius: 0.25em;box-sizing: border-box;margin-bottom: 0.5em;}#sk-container-id-1 div.sk-estimator:hover {background-color: #d4ebff;}#sk-container-id-1 div.sk-parallel-item::after {content: \"\";width: 100%;border-bottom: 1px solid gray;flex-grow: 1;}#sk-container-id-1 div.sk-label:hover label.sk-toggleable__label {background-color: #d4ebff;}#sk-container-id-1 div.sk-serial::before {content: \"\";position: absolute;border-left: 1px solid gray;box-sizing: border-box;top: 0;bottom: 0;left: 50%;z-index: 0;}#sk-container-id-1 div.sk-serial {display: flex;flex-direction: column;align-items: center;background-color: white;padding-right: 0.2em;padding-left: 0.2em;position: relative;}#sk-container-id-1 div.sk-item {position: relative;z-index: 1;}#sk-container-id-1 div.sk-parallel {display: flex;align-items: stretch;justify-content: center;background-color: white;position: relative;}#sk-container-id-1 div.sk-item::before, #sk-container-id-1 div.sk-parallel-item::before {content: \"\";position: absolute;border-left: 1px solid gray;box-sizing: border-box;top: 0;bottom: 0;left: 50%;z-index: -1;}#sk-container-id-1 div.sk-parallel-item {display: flex;flex-direction: column;z-index: 1;position: relative;background-color: white;}#sk-container-id-1 div.sk-parallel-item:first-child::after {align-self: flex-end;width: 50%;}#sk-container-id-1 div.sk-parallel-item:last-child::after {align-self: flex-start;width: 50%;}#sk-container-id-1 div.sk-parallel-item:only-child::after {width: 0;}#sk-container-id-1 div.sk-dashed-wrapped {border: 1px dashed gray;margin: 0 0.4em 0.5em 0.4em;box-sizing: border-box;padding-bottom: 0.4em;background-color: white;}#sk-container-id-1 div.sk-label label {font-family: monospace;font-weight: bold;display: inline-block;line-height: 1.2em;}#sk-container-id-1 div.sk-label-container {text-align: center;}#sk-container-id-1 div.sk-container {/* jupyter's `normalize.less` sets `[hidden] { display: none; }` but bootstrap.min.css set `[hidden] { display: none !important; }` so we also need the `!important` here to be able to override the default hidden behavior on the sphinx rendered scikit-learn.org. See: https://github.com/scikit-learn/scikit-learn/issues/21755 */display: inline-block !important;position: relative;}#sk-container-id-1 div.sk-text-repr-fallback {display: none;}</style><div id=\"sk-container-id-1\" class=\"sk-top-container\"><div class=\"sk-text-repr-fallback\"><pre>LinearRegression()</pre><b>In a Jupyter environment, please rerun this cell to show the HTML representation or trust the notebook. <br />On GitHub, the HTML representation is unable to render, please try loading this page with nbviewer.org.</b></div><div class=\"sk-container\" hidden><div class=\"sk-item\"><div class=\"sk-estimator sk-toggleable\"><input class=\"sk-toggleable__control sk-hidden--visually\" id=\"sk-estimator-id-1\" type=\"checkbox\" checked><label for=\"sk-estimator-id-1\" class=\"sk-toggleable__label sk-toggleable__label-arrow\">LinearRegression</label><div class=\"sk-toggleable__content\"><pre>LinearRegression()</pre></div></div></div></div></div>"
            ]
          },
          "metadata": {},
          "execution_count": 7
        }
      ],
      "source": [
        "from sklearn.linear_model import LinearRegression\n",
        "\n",
        "modelo = LinearRegression()\n",
        "\n",
        "modelo.fit(X_train, y_train)"
      ]
    },
    {
      "cell_type": "code",
      "execution_count": null,
      "metadata": {
        "colab": {
          "base_uri": "https://localhost:8080/"
        },
        "id": "KRgOqUEnLmrW",
        "outputId": "01107f00-ce52-4d7a-c6a8-97156c7abcc5"
      },
      "outputs": [
        {
          "output_type": "stream",
          "name": "stdout",
          "text": [
            "2.937215734690609\n",
            "[0.04695205 0.17658644 0.00185115]\n"
          ]
        }
      ],
      "source": [
        "print(modelo.intercept_)\n",
        "print(modelo.coef_)"
      ]
    },
    {
      "cell_type": "code",
      "execution_count": null,
      "metadata": {
        "colab": {
          "base_uri": "https://localhost:8080/"
        },
        "id": "-bIZHo46LmrX",
        "outputId": "a9bceea5-b347-42a3-f2f5-41b6ce6c2490"
      },
      "outputs": [
        {
          "output_type": "execute_result",
          "data": {
            "text/plain": [
              "[('TV', 0.04695204776848465),\n",
              " ('Radio', 0.1765864352681737),\n",
              " ('Newspaper', 0.0018511533188922402)]"
            ]
          },
          "metadata": {},
          "execution_count": 9
        }
      ],
      "source": [
        "list(zip(atributos, modelo.coef_)) # o comando zip junta dois vetores e forma tuplas"
      ]
    },
    {
      "cell_type": "markdown",
      "metadata": {
        "id": "6eJKe7nsLmrX"
      },
      "source": [
        "$$y = 2.93 + 0.0469 \\times TV + 0.176 \\times Radio + 0.002 \\times Newspaper$$\n",
        "\n",
        "Como interpretar **o coeficiente da variável TV** (0.0469)?\n",
        "\n",
        "Quanto mais positivo o valor, maior o impacto, quanto menor o valor (inclusive negativo), maior a contribuição na outra direção. Quando os dados estão normalizados, então para uma dada quantia gasta com de Radio e Newspaper, **um adicional de $1.000 gastos com TV** reflete diretamente na **venda de 46.6 itens**, segundo esse modelo."
      ]
    },
    {
      "cell_type": "markdown",
      "metadata": {
        "id": "KjWewU8XLmrX"
      },
      "source": [
        "### Predição"
      ]
    },
    {
      "cell_type": "code",
      "execution_count": null,
      "metadata": {
        "colab": {
          "base_uri": "https://localhost:8080/"
        },
        "id": "n85XP0UCLmrX",
        "outputId": "cbb26948-0256-4413-c426-8f57e8bfceae"
      },
      "outputs": [
        {
          "output_type": "stream",
          "name": "stderr",
          "text": [
            "/usr/local/lib/python3.10/dist-packages/sklearn/base.py:439: UserWarning: X does not have valid feature names, but LinearRegression was fitted with feature names\n",
            "  warnings.warn(\n"
          ]
        },
        {
          "output_type": "execute_result",
          "data": {
            "text/plain": [
              "array([11.19191652])"
            ]
          },
          "metadata": {},
          "execution_count": 10
        }
      ],
      "source": [
        "modelo.predict([[100,20,15]])"
      ]
    },
    {
      "cell_type": "markdown",
      "metadata": {
        "id": "pieCkD6cLmrY"
      },
      "source": [
        "No cenário dado, era esperado a venda de aproximadamente **11,2 milhões** de itens de produto."
      ]
    },
    {
      "cell_type": "markdown",
      "metadata": {
        "id": "flLjNlHJLmrY"
      },
      "source": [
        "### Avaliação de modelos de regressão\n",
        "\n",
        "Métricas como acurácia são comuns em problemas de classificação, mas não se aplicam em problemas de regressão. No lugar desta, são utilizadas métricas específicas para valores contínuos."
      ]
    },
    {
      "cell_type": "code",
      "execution_count": null,
      "metadata": {
        "id": "vigVR0CCLmrY"
      },
      "outputs": [],
      "source": [
        "true = np.array([100, 50, 30, 20])\n",
        "pred = np.array([90, 50, 50, 30])"
      ]
    },
    {
      "cell_type": "markdown",
      "metadata": {
        "id": "xovG7zhaLmrY"
      },
      "source": [
        "**Mean Absolute Error** (MAE) é a média absoluta dos erros:\n",
        "\n",
        "$$\\frac 1n\\sum_{i=1}^n|y_i-\\hat{y}_i|$$"
      ]
    },
    {
      "cell_type": "code",
      "execution_count": null,
      "metadata": {
        "colab": {
          "base_uri": "https://localhost:8080/"
        },
        "id": "CTNRjiKvLmrY",
        "outputId": "1e4bd2ac-c1df-4be2-fa03-54e745bd573e"
      },
      "outputs": [
        {
          "output_type": "stream",
          "name": "stdout",
          "text": [
            "10.0\n"
          ]
        }
      ],
      "source": [
        "# calculando MAE com scikit\n",
        "from sklearn import metrics\n",
        "print(metrics.mean_absolute_error(true, pred))"
      ]
    },
    {
      "cell_type": "markdown",
      "metadata": {
        "id": "UGUIiMupLmrY"
      },
      "source": [
        "**Mean Squared Error** (MSE) é a média do quadrado dos erros:\n",
        "\n",
        "$$\\frac 1n\\sum_{i=1}^n(y_i-\\hat{y}_i)^2$$"
      ]
    },
    {
      "cell_type": "code",
      "execution_count": null,
      "metadata": {
        "colab": {
          "base_uri": "https://localhost:8080/"
        },
        "id": "UzneEtmSLmrY",
        "outputId": "765c508d-d999-47b2-d6ac-1d4ba8fd6b43"
      },
      "outputs": [
        {
          "output_type": "stream",
          "name": "stdout",
          "text": [
            "150.0\n"
          ]
        }
      ],
      "source": [
        "# calculando MSE com scikit\n",
        "print(metrics.mean_squared_error(true, pred))"
      ]
    },
    {
      "cell_type": "markdown",
      "metadata": {
        "id": "IAlT8bQlLmrZ"
      },
      "source": [
        "**Root Mean Squared Error** (RMSE) é a raiz quadrada da média do quadrado dos erros:\n",
        "\n",
        "$$\\sqrt{\\frac 1n\\sum_{i=1}^n(y_i-\\hat{y}_i)^2}$$"
      ]
    },
    {
      "cell_type": "code",
      "execution_count": null,
      "metadata": {
        "colab": {
          "base_uri": "https://localhost:8080/"
        },
        "id": "DVXIOE-sLmrZ",
        "outputId": "3f418937-10bd-4a91-b9a7-a985eb6ca971"
      },
      "outputs": [
        {
          "output_type": "stream",
          "name": "stdout",
          "text": [
            "12.24744871391589\n"
          ]
        }
      ],
      "source": [
        "# calculando RMSE com scikit\n",
        "print(np.sqrt(metrics.mean_squared_error(true, pred)))"
      ]
    },
    {
      "cell_type": "markdown",
      "metadata": {
        "id": "uyUVgOu9LmrZ"
      },
      "source": [
        "**Mean absolute percentage error** (MAPE) é a média do erro absoluto em percentual:\n",
        "\n",
        "$$\\displaystyle {\\mbox{M}}={\\frac {100\\%}{n}}\\sum _{t=1}^{n}\\left|{\\frac{y_i-\\hat{y}_i}{y_i}}\\right|$$"
      ]
    },
    {
      "cell_type": "code",
      "execution_count": null,
      "metadata": {
        "colab": {
          "base_uri": "https://localhost:8080/"
        },
        "id": "isgVce9qLmrZ",
        "outputId": "99c2379a-4a24-45fb-f20a-6a4f06e2ec4f"
      },
      "outputs": [
        {
          "output_type": "stream",
          "name": "stdout",
          "text": [
            "31.666666666666664\n"
          ]
        }
      ],
      "source": [
        "# calculando MAPE com numpy -- pq não tem no scikit :(\n",
        "print(np.mean(np.abs((true - pred) / true)) * 100)"
      ]
    },
    {
      "cell_type": "markdown",
      "metadata": {
        "id": "E-nGPXNPLmrZ"
      },
      "source": [
        "A comparação entre as diferentes métricas:\n",
        "\n",
        "- **MAE** é a mais fácil de entender, porque é uma média.\n",
        "- **MSE** é mais popular que a MAE porque pune erros maiores.\n",
        "- **RMSE** é ainda mais popular porque, além das características anteriores, é interpretável em termos da variável de saída.\n",
        "- **MAPE** é interpretável em termos percentual, porém é necessário tomar cuidado com a divisão por zero"
      ]
    },
    {
      "cell_type": "markdown",
      "metadata": {
        "id": "zWMuRSNILmrZ"
      },
      "source": [
        "### Calculando RMSE para as predições de Vendas"
      ]
    },
    {
      "cell_type": "code",
      "execution_count": null,
      "metadata": {
        "colab": {
          "base_uri": "https://localhost:8080/"
        },
        "id": "_U4CmLJALmra",
        "outputId": "c408a7b2-cb21-4519-8a48-3735a53eb1e7"
      },
      "outputs": [
        {
          "output_type": "stream",
          "name": "stdout",
          "text": [
            "RMSE: 1.388857410775697\n",
            "MAPE: 8.545502795467279\n"
          ]
        }
      ],
      "source": [
        "y_pred = modelo.predict(X_test)\n",
        "\n",
        "print('RMSE:',np.sqrt(metrics.mean_squared_error(y_test, y_pred)))\n",
        "print('MAPE:',np.mean(np.abs((y_test - y_pred) / y_test)) * 100)\n"
      ]
    },
    {
      "cell_type": "markdown",
      "metadata": {
        "id": "93t7yU69Lmra"
      },
      "source": [
        "### Validação Cruzada"
      ]
    },
    {
      "cell_type": "code",
      "execution_count": null,
      "metadata": {
        "colab": {
          "base_uri": "https://localhost:8080/"
        },
        "id": "Zni3n9tiLmra",
        "outputId": "aceb11af-a8bd-4d3e-c403-b63d50d326b6"
      },
      "outputs": [
        {
          "output_type": "stream",
          "name": "stdout",
          "text": [
            "R2: 0.87 (+/- 0.15)\n",
            "[0.90469248 0.8946926  0.71976732 0.86420469 0.93868262 0.93194788\n",
            " 0.92284837 0.8750849  0.93814699 0.74132062]\n"
          ]
        }
      ],
      "source": [
        "from sklearn.model_selection import KFold\n",
        "\n",
        "X = data[atributos].values\n",
        "y = data.Sales.values\n",
        "\n",
        "kf = KFold(n_splits = 10, random_state = 42, shuffle=True)\n",
        "\n",
        "scores = []\n",
        "\n",
        "for train_index, test_index in kf.split(X):\n",
        "\n",
        "    X_train, X_test = X[train_index], X[test_index]\n",
        "    y_train, y_test = y[train_index], y[test_index]\n",
        "\n",
        "    modelo = LinearRegression()\n",
        "    modelo.fit(X_train, y_train)\n",
        "    y_pred = modelo.predict(X_test)\n",
        "    #score = np.mean(np.abs((y_test - y_pred) / y_test)) * 100\n",
        "    #score = np.sqrt(metrics.mean_squared_error(y_test, y_pred))\n",
        "    score = modelo.score(X_test, y_test)\n",
        "    scores.append(score)\n",
        "\n",
        "scores = np.array(scores)\n",
        "\n",
        "print(\"R2: %0.2f (+/- %0.2f)\" % (scores.mean(), scores.std() * 2))\n",
        "print(scores)"
      ]
    },
    {
      "cell_type": "markdown",
      "metadata": {
        "id": "jNu9UUWFLmra"
      },
      "source": [
        "### Utilizando gradiente\n",
        "\n",
        "(Referência: https://www.tensorflow.org/tutorials/keras/regression)"
      ]
    },
    {
      "cell_type": "code",
      "execution_count": null,
      "metadata": {
        "id": "X1wB32-6Lmra"
      },
      "outputs": [],
      "source": [
        "import tensorflow as tf\n",
        "from tensorflow import keras\n",
        "from tensorflow.keras import layers\n",
        "from tensorflow.keras.layers.experimental import preprocessing"
      ]
    },
    {
      "cell_type": "markdown",
      "metadata": {
        "id": "Y6VLM3tvLmrf"
      },
      "source": [
        "#### Normalização"
      ]
    },
    {
      "cell_type": "code",
      "execution_count": null,
      "metadata": {
        "id": "G_lP94IpLmrf"
      },
      "outputs": [],
      "source": [
        "# as variáveis já foram separadas: X_train, X_test, y_train, y_test\n",
        "\n",
        "normalizer = preprocessing.Normalization()\n",
        "normalizer.adapt(X_train)"
      ]
    },
    {
      "cell_type": "markdown",
      "metadata": {
        "id": "RsCs32GtLmrf"
      },
      "source": [
        "#### Construção da regressão"
      ]
    },
    {
      "cell_type": "code",
      "execution_count": null,
      "metadata": {
        "colab": {
          "base_uri": "https://localhost:8080/"
        },
        "id": "FN9nDD_PLmrf",
        "outputId": "f88bbd6b-6cb6-4ad3-e63c-44571d4aa6be"
      },
      "outputs": [
        {
          "output_type": "stream",
          "name": "stdout",
          "text": [
            "Model: \"sequential\"\n",
            "_________________________________________________________________\n",
            " Layer (type)                Output Shape              Param #   \n",
            "=================================================================\n",
            " normalization (Normalizati  (None, 3)                 7         \n",
            " on)                                                             \n",
            "                                                                 \n",
            " dense (Dense)               (None, 1)                 4         \n",
            "                                                                 \n",
            "=================================================================\n",
            "Total params: 11 (48.00 Byte)\n",
            "Trainable params: 4 (16.00 Byte)\n",
            "Non-trainable params: 7 (32.00 Byte)\n",
            "_________________________________________________________________\n"
          ]
        }
      ],
      "source": [
        "model = keras.Sequential([\n",
        "    normalizer,\n",
        "    layers.Dense(1)\n",
        "])\n",
        "\n",
        "model.summary()"
      ]
    },
    {
      "cell_type": "markdown",
      "metadata": {
        "id": "aE6LKuUXLmrg"
      },
      "source": [
        "#### O modelo não treinado tem condições de dar respostas"
      ]
    },
    {
      "cell_type": "code",
      "execution_count": null,
      "metadata": {
        "colab": {
          "base_uri": "https://localhost:8080/"
        },
        "id": "V698UXvrLmrg",
        "outputId": "0934f6a6-9eb2-46ba-d0d2-5a1e124b7d48"
      },
      "outputs": [
        {
          "output_type": "stream",
          "name": "stdout",
          "text": [
            "1/1 [==============================] - 0s 109ms/step\n",
            "-13.633232680261134\n"
          ]
        }
      ],
      "source": [
        "y_pred = model.predict(X_test)\n",
        "\n",
        "print((y_pred.reshape(-1) - y_test).mean())"
      ]
    },
    {
      "cell_type": "code",
      "source": [
        "import matplotlib.pyplot as plt"
      ],
      "metadata": {
        "id": "W7Cun39xMG9u"
      },
      "execution_count": null,
      "outputs": []
    },
    {
      "cell_type": "code",
      "execution_count": null,
      "metadata": {
        "colab": {
          "base_uri": "https://localhost:8080/",
          "height": 430
        },
        "id": "8tMeS6p-Lmrg",
        "outputId": "f55c961f-8058-4d9d-b9c7-164b08cc5558"
      },
      "outputs": [
        {
          "output_type": "display_data",
          "data": {
            "text/plain": [
              "<Figure size 640x480 with 1 Axes>"
            ],
            "image/png": "[encoded data removed]"
          },
          "metadata": {}
        }
      ],
      "source": [
        "error = y_pred.reshape(-1) - y_test\n",
        "plt.hist(error, bins=15)\n",
        "_ = plt.ylabel('Count')"
      ]
    },
    {
      "cell_type": "markdown",
      "metadata": {
        "id": "lN_fWPmJLmrg"
      },
      "source": [
        "#### Inserção de otimizador e função de custo"
      ]
    },
    {
      "cell_type": "code",
      "execution_count": null,
      "metadata": {
        "id": "51KnYsFVLmrg"
      },
      "outputs": [],
      "source": [
        "model.compile(optimizer=tf.optimizers.Adam(learning_rate=0.1), loss='mean_absolute_error')"
      ]
    },
    {
      "cell_type": "code",
      "execution_count": null,
      "metadata": {
        "colab": {
          "base_uri": "https://localhost:8080/"
        },
        "id": "O2NGznDXLmrg",
        "outputId": "a172ce29-33e7-48d5-f2f2-3713c8c54f22"
      },
      "outputs": [
        {
          "output_type": "stream",
          "name": "stdout",
          "text": [
            "Epoch 1/10\n",
            "5/5 [==============================] - 1s 88ms/step - loss: 13.9418 - val_loss: 13.5144\n",
            "Epoch 2/10\n",
            "5/5 [==============================] - 0s 21ms/step - loss: 13.3966 - val_loss: 13.1446\n",
            "Epoch 3/10\n",
            "5/5 [==============================] - 0s 14ms/step - loss: 12.8575 - val_loss: 12.7588\n",
            "Epoch 4/10\n",
            "5/5 [==============================] - 0s 17ms/step - loss: 12.3287 - val_loss: 12.3490\n",
            "Epoch 5/10\n",
            "5/5 [==============================] - 0s 22ms/step - loss: 11.8117 - val_loss: 11.9503\n",
            "Epoch 6/10\n",
            "5/5 [==============================] - 0s 18ms/step - loss: 11.3106 - val_loss: 11.5195\n",
            "Epoch 7/10\n",
            "5/5 [==============================] - 0s 18ms/step - loss: 10.8126 - val_loss: 11.0412\n",
            "Epoch 8/10\n",
            "5/5 [==============================] - 0s 19ms/step - loss: 10.3448 - val_loss: 10.5565\n",
            "Epoch 9/10\n",
            "5/5 [==============================] - 0s 16ms/step - loss: 9.8844 - val_loss: 10.0647\n",
            "Epoch 10/10\n",
            "5/5 [==============================] - 0s 18ms/step - loss: 9.4166 - val_loss: 9.5141\n"
          ]
        }
      ],
      "source": [
        "history = model.fit(\n",
        "    X_train, y_train,\n",
        "    epochs=10,\n",
        "    validation_split = 0.2)\n",
        "\n",
        "# verbose=0 não gera saida"
      ]
    },
    {
      "cell_type": "code",
      "execution_count": 7,
      "metadata": {
        "colab": {
          "base_uri": "https://localhost:8080/",
          "height": 451
        },
        "id": "g3cz-DibLmri",
        "outputId": "5e364731-1251-4443-ac58-fe1505efcf0d"
      },
      "outputs": [
        {
          "output_type": "display_data",
          "data": {
            "text/plain": [
              "<Figure size 640x480 with 1 Axes>"
            ],
            "image/png": "[encoded data removed]"
          },
          "metadata": {}
        }
      ],
      "source": [
        "import matplotlib.pyplot as plt\n",
        "\n",
        "def plot_loss(history):\n",
        "    plt.plot(history.history['loss'], label='loss')\n",
        "    plt.plot(history.history['val_loss'], label='val_loss')\n",
        "    plt.xlabel('Épocas')\n",
        "    plt.ylabel('Erro')\n",
        "    plt.legend()\n",
        "    plt.grid(True)\n",
        "\n",
        "plot_loss(history)"
      ]
    },
    {
      "cell_type": "code",
      "execution_count": null,
      "metadata": {
        "colab": {
          "base_uri": "https://localhost:8080/"
        },
        "id": "YopWupw0Lmri",
        "outputId": "f79bbc60-7ce6-4724-bd98-7e553db8e2c3"
      },
      "outputs": [
        {
          "output_type": "stream",
          "name": "stdout",
          "text": [
            "1/1 [==============================] - 0s 69ms/step\n",
            "-8.540611987113953\n"
          ]
        }
      ],
      "source": [
        "y_pred = model.predict(X_test)\n",
        "\n",
        "print((y_pred.reshape(-1) - y_test).mean())"
      ]
    },
    {
      "cell_type": "code",
      "execution_count": null,
      "metadata": {
        "colab": {
          "base_uri": "https://localhost:8080/",
          "height": 430
        },
        "id": "iYlEVhaWLmri",
        "outputId": "b791ad90-78b2-40b3-c18e-bcd409123719"
      },
      "outputs": [
        {
          "output_type": "display_data",
          "data": {
            "text/plain": [
              "<Figure size 640x480 with 1 Axes>"
            ],
            "image/png": "[encoded data removed]"
          },
          "metadata": {}
        }
      ],
      "source": [
        "error = y_pred.reshape(-1) - y_test\n",
        "plt.hist(error, bins=15)\n",
        "_ = plt.ylabel('Count')"
      ]
    },
    {
      "cell_type": "markdown",
      "metadata": {
        "id": "_nIYo3rrLmrj"
      },
      "source": [
        "#### Treinando por mais tempo"
      ]
    },
    {
      "cell_type": "code",
      "execution_count": null,
      "metadata": {
        "id": "lD1R9YtELmrj"
      },
      "outputs": [],
      "source": [
        "# importante redefinir o modelo\n",
        "\n",
        "model = keras.Sequential([\n",
        "    normalizer,\n",
        "    layers.Dense(1)\n",
        "])\n",
        "\n",
        "model.compile(optimizer=tf.optimizers.Adam(learning_rate=0.1), loss='mean_absolute_error')\n",
        "\n",
        "history = model.fit(\n",
        "    X_train, y_train,\n",
        "    epochs=100,\n",
        "    validation_split = 0.2,\n",
        "    verbose=0)"
      ]
    },
    {
      "cell_type": "code",
      "execution_count": null,
      "metadata": {
        "colab": {
          "base_uri": "https://localhost:8080/",
          "height": 451
        },
        "id": "_63GHzfYLmrj",
        "outputId": "404cba86-97f1-497c-bd14-d4177f9cfb76"
      },
      "outputs": [
        {
          "output_type": "display_data",
          "data": {
            "text/plain": [
              "<Figure size 640x480 with 1 Axes>"
            ],
            "image/png": "[encoded data removed]"
          },
          "metadata": {}
        }
      ],
      "source": [
        "plot_loss(history)"
      ]
    },
    {
      "cell_type": "code",
      "execution_count": null,
      "metadata": {
        "colab": {
          "base_uri": "https://localhost:8080/"
        },
        "id": "Ks2mkQk5Lmrj",
        "outputId": "9649c408-a139-4fb7-cd57-ea923887513c"
      },
      "outputs": [
        {
          "output_type": "stream",
          "name": "stdout",
          "text": [
            "1/1 [==============================] - 0s 127ms/step\n",
            "0.9369175863265994\n"
          ]
        }
      ],
      "source": [
        "y_pred = model.predict(X_test)\n",
        "\n",
        "print((y_pred.reshape(-1) - y_test).mean())"
      ]
    },
    {
      "cell_type": "code",
      "execution_count": null,
      "metadata": {
        "colab": {
          "base_uri": "https://localhost:8080/",
          "height": 430
        },
        "id": "kN818HvZLmrj",
        "outputId": "98c1fe36-0999-421b-ed68-f289fa1daec4"
      },
      "outputs": [
        {
          "output_type": "display_data",
          "data": {
            "text/plain": [
              "<Figure size 640x480 with 1 Axes>"
            ],
            "image/png": "[encoded data removed]"
          },
          "metadata": {}
        }
      ],
      "source": [
        "error = y_pred.reshape(-1) - y_test\n",
        "plt.hist(error, bins=15)\n",
        "_ = plt.ylabel('Count')"
      ]
    },
    {
      "cell_type": "markdown",
      "source": [
        "## Exercicio\n",
        "\n",
        "O objetivo deste exercício é criar um modelo de regressão linear que preveja o comprimento da sépala da flor Iris com base em outras características da flor, como largura da sépala, comprimento da pétala e largura da pétala."
      ],
      "metadata": {
        "id": "H4BDcyltHtqL"
      }
    },
    {
      "cell_type": "markdown",
      "source": [
        "Passos do Exercício:\n",
        "\n",
        "Passo 1: Importe as bibliotecas necessárias.\n",
        "\n",
        "Passo 2: Carregue o conjunto de dados Iris.\n",
        "\n",
        "Passo 3: Crie um DataFrame pandas com os dados.\n",
        "\n",
        "Passo 4: Selecione as características que você deseja usar para prever o comprimento da sépala (por exemplo, largura da sépala, comprimento da pétala, largura da pétala).\n",
        "\n",
        "Passo 5: Divida os dados em um conjunto de treinamento e um conjunto de teste.\n",
        "\n",
        "Passo 6: Crie um modelo de regressão linear.\n",
        "\n",
        "Passo 7: Treine o modelo com os dados de treinamento.\n",
        "\n",
        "\n",
        "Passo 8: Faça previsões usando o modelo treinado.\n",
        "\n",
        "\n",
        "Passo 9: Avalie o desempenho do modelo calculando o erro médio quadrático (MSE) e o coeficiente de determinação (R^2).\n",
        "\n",
        "\n",
        "Passo 10: Desafio extra: Visualize os resultados usando gráficos para mostrar as previsões em relação aos valores reais."
      ],
      "metadata": {
        "id": "_rLjpKxRIj6J"
      }
    },
    {
      "cell_type": "code",
      "source": [
        "import tensorflow as tf\n",
        "from tensorflow import keras\n",
        "from tensorflow.keras import layers\n",
        "from tensorflow.keras.layers.experimental import preprocessing\n",
        "from sklearn.model_selection import train_test_split\n",
        "import pandas as pd\n",
        "import numpy as np\n",
        "from sklearn.metrics import r2_score\n",
        "from sklearn.metrics import mean_squared_error\n",
        "\n",
        "# Carregue os dados\n",
        "data = pd.read_csv('iris.csv')\n",
        "\n",
        "# Divida os dados em conjuntos de treinamento e teste\n",
        "features = data.columns[1:-1]\n",
        "label = 'comprimento_sepala'\n",
        "\n",
        "X = data[features]\n",
        "y = data[[label]]\n",
        "\n",
        "X_train, X_test, y_train, y_test = train_test_split(X, y, test_size = 0.3, random_state=1)\n",
        "\n",
        "# Escolha um modelo e treine-o\n",
        "normalizer = preprocessing.Normalization()\n",
        "normalizer.adapt(X_train)\n",
        "\n",
        "model = keras.Sequential([\n",
        "    normalizer,\n",
        "    layers.Dense(1)\n",
        "])\n",
        "\n",
        "model.compile(optimizer=tf.optimizers.Adam(learning_rate=0.1), loss='mean_absolute_error')\n",
        "\n",
        "# Faça previsões\n",
        "history = model.fit(X_train, y_train,epochs=16, validation_data=(X_test, y_test))\n",
        "plot_loss(history)\n",
        "\n",
        "# Avalie o modelo\n",
        "y_pred = model.predict(X_test)\n",
        "print(\"MSE: \" , mean_squared_error(y_test, y_pred))\n",
        "print(\"R2: \" , r2_score(y_test, y_pred))\n",
        "\n",
        "# Visualize os resultados\n",
        "plt.scatter(y_test, y_pred)\n",
        "plt.xlabel('Valores Reais')\n",
        "plt.ylabel('Previsões')\n",
        "plt.title('Valores Reais vs. Previsões')\n",
        "plt.show()"
      ],
      "metadata": {
        "colab": {
          "base_uri": "https://localhost:8080/",
          "height": 1000
        },
        "id": "bFpUxMXZcob3",
        "outputId": "b6fa7d2d-a01a-4a3c-a7a6-02b70b616ca6"
      },
      "execution_count": 13,
      "outputs": [
        {
          "output_type": "stream",
          "name": "stdout",
          "text": [
            "Epoch 1/16\n",
            "4/4 [==============================] - 1s 132ms/step - loss: 5.6957 - val_loss: 5.5494\n",
            "Epoch 2/16\n",
            "4/4 [==============================] - 0s 36ms/step - loss: 5.2916 - val_loss: 5.1666\n",
            "Epoch 3/16\n",
            "4/4 [==============================] - 0s 37ms/step - loss: 4.9002 - val_loss: 4.7720\n",
            "Epoch 4/16\n",
            "4/4 [==============================] - 0s 48ms/step - loss: 4.4843 - val_loss: 4.3792\n",
            "Epoch 5/16\n",
            "4/4 [==============================] - 0s 47ms/step - loss: 4.0849 - val_loss: 3.9793\n",
            "Epoch 6/16\n",
            "4/4 [==============================] - 0s 36ms/step - loss: 3.6932 - val_loss: 3.6007\n",
            "Epoch 7/16\n",
            "4/4 [==============================] - 0s 39ms/step - loss: 3.3224 - val_loss: 3.2250\n",
            "Epoch 8/16\n",
            "4/4 [==============================] - 0s 36ms/step - loss: 2.9491 - val_loss: 2.8382\n",
            "Epoch 9/16\n",
            "4/4 [==============================] - 0s 39ms/step - loss: 2.5412 - val_loss: 2.4433\n",
            "Epoch 10/16\n",
            "4/4 [==============================] - 0s 37ms/step - loss: 2.1612 - val_loss: 2.0417\n",
            "Epoch 11/16\n",
            "4/4 [==============================] - 0s 21ms/step - loss: 1.7668 - val_loss: 1.6404\n",
            "Epoch 12/16\n",
            "4/4 [==============================] - 0s 23ms/step - loss: 1.3794 - val_loss: 1.2376\n",
            "Epoch 13/16\n",
            "4/4 [==============================] - 0s 16ms/step - loss: 0.9824 - val_loss: 0.8440\n",
            "Epoch 14/16\n",
            "4/4 [==============================] - 0s 16ms/step - loss: 0.6156 - val_loss: 0.4691\n",
            "Epoch 15/16\n",
            "4/4 [==============================] - 0s 26ms/step - loss: 0.3461 - val_loss: 0.2464\n",
            "Epoch 16/16\n",
            "4/4 [==============================] - 0s 21ms/step - loss: 0.3137 - val_loss: 0.2966\n"
          ]
        },
        {
          "output_type": "stream",
          "name": "stderr",
          "text": [
            "WARNING:tensorflow:6 out of the last 11 calls to <function Model.make_predict_function.<locals>.predict_function at 0x7e8aa38ae560> triggered tf.function retracing. Tracing is expensive and the excessive number of tracings could be due to (1) creating @tf.function repeatedly in a loop, (2) passing tensors with different shapes, (3) passing Python objects instead of tensors. For (1), please define your @tf.function outside of the loop. For (2), @tf.function has reduce_retracing=True option that can avoid unnecessary retracing. For (3), please refer to https://www.tensorflow.org/guide/function#controlling_retracing and https://www.tensorflow.org/api_docs/python/tf/function for  more details.\n"
          ]
        },
        {
          "output_type": "stream",
          "name": "stdout",
          "text": [
            "2/2 [==============================] - 0s 4ms/step\n",
            "MSE:  0.14441324699300057\n",
            "R2:  0.7622271524832701\n"
          ]
        },
        {
          "output_type": "display_data",
          "data": {
            "text/plain": [
              "<Figure size 640x480 with 1 Axes>"
            ],
            "image/png": "[encoded data removed]"
          },
          "metadata": {}
        }
      ]
    },
    {
      "cell_type": "markdown",
      "source": [
        "Perguntas do Exercício:\n",
        "\n",
        "1- Qual é o valor do Mean Squared Error (MSE) do modelo de regressão linear?\n",
        "\n",
        "2- Qual é o valor do coeficiente de determinação (R^2) do modelo? O que isso indica sobre o ajuste do modelo aos dados?\n",
        "\n",
        "3- Como você acha que o modelo de regressão linear se sairia se você usasse diferentes características para prever o comprimento da sépala?\n",
        "\n",
        "4- Experimente ajustar o tamanho do conjunto de teste (alterando o test_size no Passo 5). Como isso afeta o desempenho do modelo?"
      ],
      "metadata": {
        "id": "in2rXa44IlIH"
      }
    },
    {
      "cell_type": "markdown",
      "source": [
        "**1- Qual é o valor do Mean Squared Error (MSE) do modelo de regressão linear?**\n",
        "0.14\n",
        "\n",
        "**2- Qual é o valor do coeficiente de determinação (R^2) do modelo? O que isso indica sobre o ajuste do modelo aos dados?**\n",
        "0.76, isso indica que o seu modelo explica aproximadamente 76% da variação na variável dependente com base nas variáveis independentes utilizadas no modelo. Isso é um bom sinal e sugere um ajuste razoavelmente bom do modelo aos dados, pois a maior parte da variação está sendo capturada.\n",
        "\n",
        "**3- Como você acha que o modelo de regressão linear se sairia se você usasse diferentes características para prever o comprimento da sépala?**\n",
        "Se você escolher características que têm uma relação forte e linear com o comprimento da sépala, o modelo de regressão linear provavelmente se sairá bem e poderá fornecer boas previsões. Isso ocorre porque o modelo de regressão linear é especialmente adequado para capturar relacionamentos lineares entre variáveis. Se os dados realmente seguem um padrão linear, o modelo terá uma boa chance de ajustar-se bem.\n",
        "\n",
        "A chave está em escolher cuidadosamente as características com base no conhecimento do domínio e realizar análises exploratórias de dados para entender a relação entre as variáveis antes de aplicar um modelo. Além disso, a validação cruzada e a avaliação de métricas de desempenho ajudarão a determinar a qualidade do modelo de regressão linear em relação às características escolhidas.\n",
        "\n",
        "Portanto, o desempenho do modelo de regressão linear dependerá da qualidade das características selecionadas e da natureza da relação entre essas características e o comprimento da sépala.\n",
        "\n",
        "**4- Experimente ajustar o tamanho do conjunto de teste (alterando o test_size no Passo 5). Como isso afeta o desempenho do modelo?**\n",
        "Isso ira afetar na quantidade de elementos que tenho disponivel para teste, por ser um dataset pequeno, ter poucos elementos para teste como 20%, se torna poucas linhas para conseguir validar a qualidade do modelo, podendo transformar a metrica em não conclusiva."
      ],
      "metadata": {
        "id": "sjQv7FJtgTb9"
      }
    }
  ],
  "metadata": {
    "kernelspec": {
      "display_name": "Python 3",
      "language": "python",
      "name": "python3"
    },
    "language_info": {
      "codemirror_mode": {
        "name": "ipython",
        "version": 3
      },
      "file_extension": ".py",
      "mimetype": "text/x-python",
      "name": "python",
      "nbconvert_exporter": "python",
      "pygments_lexer": "ipython3",
      "version": "3.7.3"
    },
    "colab": {
      "provenance": []
    }
  },
  "nbformat": 4,
  "nbformat_minor": 0
}